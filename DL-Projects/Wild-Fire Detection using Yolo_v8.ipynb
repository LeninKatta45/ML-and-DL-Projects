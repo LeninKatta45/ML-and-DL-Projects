{
 "cells": [
  {
   "cell_type": "code",
   "execution_count": 1,
   "id": "31245b96",
   "metadata": {},
   "outputs": [
    {
     "name": "stderr",
     "output_type": "stream",
     "text": [
      "Downloading https://github.com/ultralytics/assets/releases/download/v0.0.0/yolov8n.pt to 'yolov8n.pt'...\n",
      "\n",
      "  0%|          | 0.00/6.23M [00:00<?, ?B/s]\n",
      "  2%|1         | 120k/6.23M [00:00<00:07, 911kB/s]\n",
      "  5%|4         | 304k/6.23M [00:00<00:05, 1.16MB/s]\n",
      "  7%|7         | 448k/6.23M [00:00<00:04, 1.26MB/s]\n",
      "  9%|9         | 576k/6.23M [00:00<00:04, 1.20MB/s]\n",
      " 13%|#2        | 800k/6.23M [00:00<00:04, 1.41MB/s]\n",
      " 15%|#4        | 944k/6.23M [00:00<00:04, 1.37MB/s]\n",
      " 17%|#6        | 1.05M/6.23M [00:00<00:05, 1.07MB/s]\n",
      " 19%|#8        | 1.16M/6.23M [00:01<00:09, 573kB/s] \n",
      " 20%|##        | 1.25M/6.23M [00:01<00:09, 554kB/s]\n",
      " 21%|##1       | 1.33M/6.23M [00:01<00:09, 563kB/s]\n",
      " 22%|##2       | 1.40M/6.23M [00:01<00:08, 571kB/s]\n",
      " 24%|##3       | 1.49M/6.23M [00:01<00:07, 628kB/s]\n",
      " 25%|##5       | 1.59M/6.23M [00:02<00:07, 654kB/s]\n",
      " 27%|##6       | 1.68M/6.23M [00:02<00:06, 696kB/s]\n",
      " 28%|##8       | 1.76M/6.23M [00:02<00:06, 721kB/s]\n",
      " 29%|##9       | 1.84M/6.23M [00:02<00:06, 741kB/s]\n",
      " 31%|###       | 1.93M/6.23M [00:02<00:05, 794kB/s]\n",
      " 32%|###2      | 2.02M/6.23M [00:02<00:05, 786kB/s]\n",
      " 34%|###3      | 2.10M/6.23M [00:02<00:05, 768kB/s]\n",
      " 35%|###4      | 2.18M/6.23M [00:02<00:05, 781kB/s]\n",
      " 36%|###6      | 2.26M/6.23M [00:02<00:05, 780kB/s]\n",
      " 37%|###7      | 2.34M/6.23M [00:03<00:05, 787kB/s]\n",
      " 39%|###8      | 2.41M/6.23M [00:03<00:05, 760kB/s]\n",
      " 40%|###9      | 2.49M/6.23M [00:03<00:05, 763kB/s]\n",
      " 41%|####1     | 2.57M/6.23M [00:03<00:04, 770kB/s]\n",
      " 43%|####2     | 2.66M/6.23M [00:03<00:04, 808kB/s]\n",
      " 45%|####4     | 2.77M/6.23M [00:03<00:04, 880kB/s]\n",
      " 46%|####6     | 2.88M/6.23M [00:03<00:03, 944kB/s]\n",
      " 48%|####8     | 3.01M/6.23M [00:03<00:03, 1.04MB/s]\n",
      " 51%|#####     | 3.15M/6.23M [00:03<00:02, 1.09MB/s]\n",
      " 53%|#####2    | 3.29M/6.23M [00:04<00:02, 1.20MB/s]\n",
      " 55%|#####5    | 3.45M/6.23M [00:04<00:02, 1.31MB/s]\n",
      " 58%|#####7    | 3.59M/6.23M [00:04<00:02, 1.35MB/s]\n",
      " 60%|######    | 3.76M/6.23M [00:04<00:01, 1.45MB/s]\n",
      " 63%|######3   | 3.93M/6.23M [00:04<00:01, 1.54MB/s]\n",
      " 66%|######6   | 4.12M/6.23M [00:04<00:01, 1.62MB/s]\n",
      " 69%|######8   | 4.27M/6.23M [00:04<00:01, 1.62MB/s]\n",
      " 71%|#######1  | 4.43M/6.23M [00:04<00:01, 1.53MB/s]\n",
      " 74%|#######3  | 4.59M/6.23M [00:04<00:01, 1.52MB/s]\n",
      " 76%|#######6  | 4.74M/6.23M [00:05<00:01, 1.53MB/s]\n",
      " 79%|#######8  | 4.91M/6.23M [00:05<00:00, 1.57MB/s]\n",
      " 82%|########1 | 5.09M/6.23M [00:05<00:00, 1.61MB/s]\n",
      " 85%|########4 | 5.27M/6.23M [00:05<00:00, 1.70MB/s]\n",
      " 88%|########7 | 5.46M/6.23M [00:05<00:00, 1.76MB/s]\n",
      " 91%|######### | 5.66M/6.23M [00:05<00:00, 1.80MB/s]\n",
      " 94%|#########4| 5.87M/6.23M [00:05<00:00, 1.87MB/s]\n",
      " 97%|#########7| 6.07M/6.23M [00:05<00:00, 1.93MB/s]\n",
      "100%|##########| 6.23M/6.23M [00:05<00:00, 1.11MB/s]\n",
      "Ultralytics YOLOv8.0.190  Python-3.11.3 torch-2.0.1+cpu CPU (12th Gen Intel Core(TM) i5-1235U)\n",
      "YOLOv8n summary (fused): 168 layers, 3151904 parameters, 0 gradients, 8.7 GFLOPs\n",
      "\n",
      "image 1/1 C:\\Users\\lenin\\Downloads\\KOA_Nassa.jpg: 384x640 1 dog, 454.7ms\n",
      "Speed: 19.5ms preprocess, 454.7ms inference, 4.5ms postprocess per image at shape (1, 3, 384, 640)\n",
      "Results saved to \u001b[1mruns\\detect\\predict\u001b[0m\n",
      " Learn more at https://docs.ultralytics.com/modes/predict\n"
     ]
    }
   ],
   "source": [
    "!yolo task=detect mode=predict model=yolov8n.pt source=\"C:\\Users\\lenin\\Downloads\\WhatsApp Image 2023-10-01 at 19.41.58_c605513a.jpg\""
   ]
  },
  {
   "cell_type": "code",
   "execution_count": null,
   "id": "470b4116",
   "metadata": {},
   "outputs": [],
   "source": [
    "yolo task=segment mode=predict model=yolov8n-seg.pt source=\"C:\\Users\\lenin\\Downloads\\WhatsApp Image 2023-10-01 at 19.41.58_c605513a.jpg\""
   ]
  },
  {
   "cell_type": "code",
   "execution_count": 2,
   "id": "df86dd21",
   "metadata": {},
   "outputs": [],
   "source": [
    "from ultralytics import YOLO"
   ]
  },
  {
   "cell_type": "code",
   "execution_count": null,
   "id": "0076085d",
   "metadata": {},
   "outputs": [
    {
     "name": "stderr",
     "output_type": "stream",
     "text": [
      "New https://pypi.org/project/ultralytics/8.0.192 available  Update with 'pip install -U ultralytics'\n",
      "Ultralytics YOLOv8.0.190  Python-3.11.3 torch-2.0.1+cpu CPU (12th Gen Intel Core(TM) i5-1235U)\n",
      "\u001b[34m\u001b[1mengine\\trainer: \u001b[0mtask=detect, mode=train, model=yolov8n.pt, data=C:\\Fire-Forest\\Fire\\data.yaml, epochs=50, patience=50, batch=16, imgsz=640, save=True, save_period=-1, cache=False, device=None, workers=8, project=None, name=None, exist_ok=False, pretrained=True, optimizer=auto, verbose=True, seed=0, deterministic=True, single_cls=False, rect=False, cos_lr=False, close_mosaic=10, resume=False, amp=True, fraction=1.0, profile=False, freeze=None, overlap_mask=True, mask_ratio=4, dropout=0.0, val=True, split=val, save_json=False, save_hybrid=False, conf=None, iou=0.7, max_det=300, half=False, dnn=False, plots=True, source=None, show=False, save_txt=False, save_conf=False, save_crop=False, show_labels=True, show_conf=True, vid_stride=1, stream_buffer=False, line_width=None, visualize=False, augment=False, agnostic_nms=False, classes=None, retina_masks=False, boxes=True, format=torchscript, keras=False, optimize=False, int8=False, dynamic=False, simplify=False, opset=None, workspace=4, nms=False, lr0=0.01, lrf=0.01, momentum=0.937, weight_decay=0.0005, warmup_epochs=3.0, warmup_momentum=0.8, warmup_bias_lr=0.1, box=7.5, cls=0.5, dfl=1.5, pose=12.0, kobj=1.0, label_smoothing=0.0, nbs=64, hsv_h=0.015, hsv_s=0.7, hsv_v=0.4, degrees=0.0, translate=0.1, scale=0.5, shear=0.0, perspective=0.0, flipud=0.0, fliplr=0.5, mosaic=1.0, mixup=0.0, copy_paste=0.0, cfg=None, tracker=botsort.yaml, save_dir=runs\\detect\\train2\n",
      "Overriding model.yaml nc=80 with nc=2\n",
      "\n",
      "                   from  n    params  module                                       arguments                     \n",
      "  0                  -1  1       464  ultralytics.nn.modules.conv.Conv             [3, 16, 3, 2]                 \n",
      "  1                  -1  1      4672  ultralytics.nn.modules.conv.Conv             [16, 32, 3, 2]                \n",
      "  2                  -1  1      7360  ultralytics.nn.modules.block.C2f             [32, 32, 1, True]             \n",
      "  3                  -1  1     18560  ultralytics.nn.modules.conv.Conv             [32, 64, 3, 2]                \n",
      "  4                  -1  2     49664  ultralytics.nn.modules.block.C2f             [64, 64, 2, True]             \n",
      "  5                  -1  1     73984  ultralytics.nn.modules.conv.Conv             [64, 128, 3, 2]               \n",
      "  6                  -1  2    197632  ultralytics.nn.modules.block.C2f             [128, 128, 2, True]           \n",
      "  7                  -1  1    295424  ultralytics.nn.modules.conv.Conv             [128, 256, 3, 2]              \n",
      "  8                  -1  1    460288  ultralytics.nn.modules.block.C2f             [256, 256, 1, True]           \n",
      "  9                  -1  1    164608  ultralytics.nn.modules.block.SPPF            [256, 256, 5]                 \n",
      " 10                  -1  1         0  torch.nn.modules.upsampling.Upsample         [None, 2, 'nearest']          \n",
      " 11             [-1, 6]  1         0  ultralytics.nn.modules.conv.Concat           [1]                           \n",
      " 12                  -1  1    148224  ultralytics.nn.modules.block.C2f             [384, 128, 1]                 \n",
      " 13                  -1  1         0  torch.nn.modules.upsampling.Upsample         [None, 2, 'nearest']          \n",
      " 14             [-1, 4]  1         0  ultralytics.nn.modules.conv.Concat           [1]                           \n",
      " 15                  -1  1     37248  ultralytics.nn.modules.block.C2f             [192, 64, 1]                  \n",
      " 16                  -1  1     36992  ultralytics.nn.modules.conv.Conv             [64, 64, 3, 2]                \n",
      " 17            [-1, 12]  1         0  ultralytics.nn.modules.conv.Concat           [1]                           \n",
      " 18                  -1  1    123648  ultralytics.nn.modules.block.C2f             [192, 128, 1]                 \n",
      " 19                  -1  1    147712  ultralytics.nn.modules.conv.Conv             [128, 128, 3, 2]              \n",
      " 20             [-1, 9]  1         0  ultralytics.nn.modules.conv.Concat           [1]                           \n",
      " 21                  -1  1    493056  ultralytics.nn.modules.block.C2f             [384, 256, 1]                 \n",
      " 22        [15, 18, 21]  1    751702  ultralytics.nn.modules.head.Detect           [2, [64, 128, 256]]           \n",
      "Model summary: 225 layers, 3011238 parameters, 3011222 gradients, 8.2 GFLOPs\n",
      "\n",
      "Transferred 319/355 items from pretrained weights\n",
      "\u001b[34m\u001b[1mTensorBoard: \u001b[0mStart with 'tensorboard --logdir runs\\detect\\train2', view at http://localhost:6006/\n",
      "Freezing layer 'model.22.dfl.conv.weight'\n",
      "\u001b[34m\u001b[1mtrain: \u001b[0mScanning C:\\Fire-Forest\\Fire\\train\\labels.cache... 3687 images, 1474 backgrounds, 0 corrupt: 100%|██████████| 3\u001b[0m\n",
      "\u001b[34m\u001b[1mval: \u001b[0mScanning C:\\Fire-Forest\\Fire\\valid\\labels.cache... 1082 images, 401 backgrounds, 0 corrupt: 100%|██████████| 1082\u001b[0m\n",
      "Plotting labels to runs\\detect\\train2\\labels.jpg... \n",
      "\u001b[34m\u001b[1moptimizer:\u001b[0m 'optimizer=auto' found, ignoring 'lr0=0.01' and 'momentum=0.937' and determining best 'optimizer', 'lr0' and 'momentum' automatically... \n",
      "\u001b[34m\u001b[1moptimizer:\u001b[0m AdamW(lr=0.001667, momentum=0.9) with parameter groups 57 weight(decay=0.0), 64 weight(decay=0.0005), 63 bias(decay=0.0)\n",
      "Image sizes 640 train, 640 val\n",
      "Using 0 dataloader workers\n",
      "Logging results to \u001b[1mruns\\detect\\train2\u001b[0m\n",
      "Starting training for 50 epochs...\n",
      "\n",
      "      Epoch    GPU_mem   box_loss   cls_loss   dfl_loss  Instances       Size\n",
      "  0%|          | 0/231 [00:00<?, ?it/s]"
     ]
    }
   ],
   "source": [
    "model=YOLO(\"yolov8n.pt\")\n",
    "model.train(data=\"C:\\Fire-Forest\\Fire\\data.yaml\",epochs=50)"
   ]
  },
  {
   "cell_type": "code",
   "execution_count": 1,
   "id": "ecd220fb",
   "metadata": {},
   "outputs": [],
   "source": [
    "from ultralytics import YOLO\n",
    "model=YOLO(\"best.pt\")"
   ]
  },
  {
   "cell_type": "code",
   "execution_count": 5,
   "id": "13157411",
   "metadata": {
    "scrolled": false
   },
   "outputs": [
    {
     "name": "stderr",
     "output_type": "stream",
     "text": [
      "\n",
      "image 1/1 C:\\Users\\lenin\\Downloads\\png-clipart-smoke-fire-flame-smoke-orange-explosion-thumbnail.png: 640x544 9 Fires, 4 Smokes, 493.5ms\n",
      "Speed: 0.6ms preprocess, 493.5ms inference, 34.0ms postprocess per image at shape (1, 3, 640, 544)\n"
     ]
    }
   ],
   "source": [
    "r=model(source=R\"C:\\Users\\lenin\\Downloads\\png-clipart-smoke-fire-flame-smoke-orange-explosion-thumbnail.png\",show=True)"
   ]
  },
  {
   "cell_type": "code",
   "execution_count": 33,
   "id": "fed6ed86",
   "metadata": {},
   "outputs": [],
   "source": [
    "import ultralytics"
   ]
  },
  {
   "cell_type": "code",
   "execution_count": 38,
   "id": "2eead3dc",
   "metadata": {},
   "outputs": [
    {
     "data": {
      "text/plain": [
       "ultralytics.engine.results.Boxes"
      ]
     },
     "execution_count": 38,
     "metadata": {},
     "output_type": "execute_result"
    }
   ],
   "source": [
    "ultralytics.engine.results.Boxes"
   ]
  },
  {
   "cell_type": "code",
   "execution_count": 41,
   "id": "0e462b7b",
   "metadata": {},
   "outputs": [
    {
     "data": {
      "text/plain": [
       "[ultralytics.engine.results.Results object with attributes:\n",
       " \n",
       " boxes: ultralytics.engine.results.Boxes object\n",
       " keypoints: None\n",
       " masks: None\n",
       " names: {0: 'Fire', 1: 'Smoke'}\n",
       " orig_img: array([[[255, 255, 255],\n",
       "         [255, 255, 255],\n",
       "         [255, 255, 255],\n",
       "         ...,\n",
       "         [238, 238, 238],\n",
       "         [238, 238, 238],\n",
       "         [238, 238, 238]],\n",
       " \n",
       "        [[255, 255, 255],\n",
       "         [255, 255, 255],\n",
       "         [255, 255, 255],\n",
       "         ...,\n",
       "         [238, 238, 238],\n",
       "         [238, 238, 238],\n",
       "         [238, 238, 238]],\n",
       " \n",
       "        [[255, 255, 255],\n",
       "         [255, 255, 255],\n",
       "         [255, 255, 255],\n",
       "         ...,\n",
       "         [238, 238, 238],\n",
       "         [238, 238, 238],\n",
       "         [238, 238, 238]],\n",
       " \n",
       "        ...,\n",
       " \n",
       "        [[255, 255, 255],\n",
       "         [255, 255, 255],\n",
       "         [255, 255, 255],\n",
       "         ...,\n",
       "         [238, 238, 238],\n",
       "         [238, 238, 238],\n",
       "         [238, 238, 238]],\n",
       " \n",
       "        [[255, 255, 255],\n",
       "         [255, 255, 255],\n",
       "         [255, 255, 255],\n",
       "         ...,\n",
       "         [238, 238, 238],\n",
       "         [238, 238, 238],\n",
       "         [238, 238, 238]],\n",
       " \n",
       "        [[255, 255, 255],\n",
       "         [255, 255, 255],\n",
       "         [255, 255, 255],\n",
       "         ...,\n",
       "         [238, 238, 238],\n",
       "         [238, 238, 238],\n",
       "         [238, 238, 238]]], dtype=uint8)\n",
       " orig_shape: (429, 348)\n",
       " path: 'C:\\\\Users\\\\lenin\\\\Downloads\\\\png-clipart-smoke-fire-flame-smoke-orange-explosion-thumbnail.png'\n",
       " probs: None\n",
       " save_dir: None\n",
       " speed: {'preprocess': 0.6384849548339844, 'inference': 493.47376823425293, 'postprocess': 33.97560119628906}]"
      ]
     },
     "execution_count": 41,
     "metadata": {},
     "output_type": "execute_result"
    }
   ],
   "source": [
    "r"
   ]
  },
  {
   "cell_type": "code",
   "execution_count": 43,
   "id": "c7f6ef15",
   "metadata": {},
   "outputs": [],
   "source": [
    "class_names=[\"Fire\",\"Smoke\"]"
   ]
  },
  {
   "cell_type": "code",
   "execution_count": 44,
   "id": "ff5296fc",
   "metadata": {},
   "outputs": [
    {
     "name": "stdout",
     "output_type": "stream",
     "text": [
      "[0.0, 0.0, 0.0, 0.0, 0.0, 1.0, 0.0, 1.0, 0.0, 1.0, 0.0, 0.0, 1.0]\n",
      "Class: Fire\n",
      "Class: Fire\n",
      "Class: Fire\n",
      "Class: Fire\n",
      "Class: Fire\n",
      "Class: Smoke\n",
      "Class: Fire\n",
      "Class: Smoke\n",
      "Class: Fire\n",
      "Class: Smoke\n",
      "Class: Fire\n",
      "Class: Fire\n",
      "Class: Smoke\n"
     ]
    }
   ],
   "source": [
    "for result in r:\n",
    "    boxes = result.boxes  \n",
    "    probs = result.probs  \n",
    "    cls = boxes.cls.tolist()  \n",
    "    xyxy = boxes.xyxy\n",
    "    xywh = boxes.xywh \n",
    "    conf = boxes.conf\n",
    "    print(cls)\n",
    "    for class_index in cls:\n",
    "        class_name = class_names[int(class_index)]\n",
    "        print(\"Class:\", class_name)"
   ]
  },
  {
   "cell_type": "code",
   "execution_count": null,
   "id": "5665792e",
   "metadata": {},
   "outputs": [],
   "source": []
  }
 ],
 "metadata": {
  "kernelspec": {
   "display_name": "Python 3 (ipykernel)",
   "language": "python",
   "name": "python3"
  },
  "language_info": {
   "codemirror_mode": {
    "name": "ipython",
    "version": 3
   },
   "file_extension": ".py",
   "mimetype": "text/x-python",
   "name": "python",
   "nbconvert_exporter": "python",
   "pygments_lexer": "ipython3",
   "version": "3.11.3"
  }
 },
 "nbformat": 4,
 "nbformat_minor": 5
}
