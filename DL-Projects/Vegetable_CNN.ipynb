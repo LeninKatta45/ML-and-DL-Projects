{
 "cells": [
  {
   "cell_type": "code",
   "execution_count": 1,
   "metadata": {
    "id": "XtWTYMHItQub"
   },
   "outputs": [],
   "source": [
    "import PIL\n",
    "import cv2\n",
    "import tensorflow as tf\n",
    "from tensorflow import keras\n",
    "import numpy as np\n",
    "import pathlib\n",
    "import pandas as pd\n",
    "import matplotlib.pyplot as plt\n",
    "%matplotlib inline"
   ]
  },
  {
   "cell_type": "code",
   "execution_count": 2,
   "metadata": {
    "id": "9HLCwjbZu1Kh"
   },
   "outputs": [],
   "source": [
    "url=\"C:\\Code\\Vegetable Images\\Vegetables\""
   ]
  },
  {
   "cell_type": "code",
   "execution_count": 3,
   "metadata": {
    "id": "LeNSOqbTu9m3"
   },
   "outputs": [],
   "source": [
    "sd=pathlib.Path(url)"
   ]
  },
  {
   "cell_type": "code",
   "execution_count": 4,
   "metadata": {
    "colab": {
     "base_uri": "https://localhost:8080/"
    },
    "id": "yLqG7RsnvzP1",
    "outputId": "1ffd22d7-2db7-49db-e5c6-a43d023da00b"
   },
   "outputs": [
    {
     "name": "stdout",
     "output_type": "stream",
     "text": [
      "C:\\Code\\Vegetable Images\\Vegetables\n"
     ]
    }
   ],
   "source": [
    "print(sd)"
   ]
  },
  {
   "cell_type": "code",
   "execution_count": 5,
   "metadata": {
    "id": "BbX4wdcBv9CI"
   },
   "outputs": [],
   "source": [
    "string=str(sd)"
   ]
  },
  {
   "cell_type": "code",
   "execution_count": 6,
   "metadata": {
    "colab": {
     "base_uri": "https://localhost:8080/",
     "height": 36
    },
    "id": "wXuc66S_v_U_",
    "outputId": "2705ccff-490c-403c-b75d-31f809e58fcb"
   },
   "outputs": [
    {
     "data": {
      "text/plain": [
       "'C:\\\\Code\\\\Vegetable Images\\\\Vegetables'"
      ]
     },
     "execution_count": 6,
     "metadata": {},
     "output_type": "execute_result"
    }
   ],
   "source": [
    "string"
   ]
  },
  {
   "cell_type": "code",
   "execution_count": 8,
   "metadata": {
    "colab": {
     "base_uri": "https://localhost:8080/"
    },
    "id": "yqlpqwdXvHf5",
    "outputId": "6be95845-e134-4ecf-a470-caf6b91dcaeb"
   },
   "outputs": [
    {
     "name": "stdout",
     "output_type": "stream",
     "text": [
      "['Bean', 'Bitter Gourd', 'Bottle Gourd', 'Brinjal', 'Broccoli', 'Cabbage', 'Capsicum', 'Carrot', 'Cauliflower', 'Chilli', 'Cluster Beans', 'Corn', 'Cucumber', 'Drum Sticks', 'Ivy-Gourd', 'Lettuce', 'Okra', 'Onion', 'Papaya', 'Peas', 'Potato', 'Pumpkin', 'Radish', 'Ridge Gourd', 'Spinach', 'Tomato']\n"
     ]
    }
   ],
   "source": [
    "ver=[]\n",
    "for i in sd.glob(\"*\"):\n",
    "    j=str(i)\n",
    "    ver.append(j.replace(string+\"\\\\\",\"\"))\n",
    "print(ver)"
   ]
  },
  {
   "cell_type": "code",
   "execution_count": 9,
   "metadata": {
    "id": "V71hmwlsy_jv"
   },
   "outputs": [],
   "source": [
    "label_dic={}\n",
    "for f in range(len(ver)):\n",
    "    label_dic[ver[f]]=f"
   ]
  },
  {
   "cell_type": "code",
   "execution_count": 10,
   "metadata": {
    "id": "oe3abJSPvwVJ"
   },
   "outputs": [],
   "source": [
    "dic={}\n",
    "for k in ver:\n",
    "    dic[k]=list(sd.glob(k+\"/*\"))"
   ]
  },
  {
   "cell_type": "code",
   "execution_count": 11,
   "metadata": {
    "colab": {
     "base_uri": "https://localhost:8080/"
    },
    "id": "zyWfaHk-yPao",
    "outputId": "5a734d1a-384d-45ac-8021-93318d05fec8"
   },
   "outputs": [
    {
     "name": "stdout",
     "output_type": "stream",
     "text": [
      "15026\n"
     ]
    }
   ],
   "source": [
    "tot=0\n",
    "for m in ver:\n",
    "    tot=tot+len(dic[m])\n",
    "print(tot)"
   ]
  },
  {
   "cell_type": "code",
   "execution_count": 12,
   "metadata": {
    "id": "icr8maQcyU3U"
   },
   "outputs": [],
   "source": [
    "x,y=[],[]\n",
    "for veg_name,image in dic.items():\n",
    "    for imag in image:\n",
    "        j=cv2.imread(str(imag))\n",
    "        resize=cv2.resize(j,(180,180))\n",
    "        x.append(resize)\n",
    "        y.append(label_dic[veg_name])"
   ]
  },
  {
   "cell_type": "code",
   "execution_count": 13,
   "metadata": {
    "id": "DLLXTB8YynCP"
   },
   "outputs": [],
   "source": [
    "x=np.array(x)\n",
    "y=np.array(y)"
   ]
  },
  {
   "cell_type": "code",
   "execution_count": 14,
   "metadata": {
    "id": "GmHilWltzm_M"
   },
   "outputs": [],
   "source": [
    "y=tf.keras.utils.to_categorical(y,26,dtype=\"float32\")"
   ]
  },
  {
   "cell_type": "code",
   "execution_count": 15,
   "metadata": {
    "id": "GAo0Ti2Szr_a"
   },
   "outputs": [],
   "source": [
    "from sklearn.model_selection import train_test_split\n",
    "x_train,x_test,y_train,y_test=train_test_split(x,y,test_size=0.2,random_state=12)"
   ]
  },
  {
   "cell_type": "code",
   "execution_count": 16,
   "metadata": {
    "id": "ZQoUyChh0AdV"
   },
   "outputs": [],
   "source": [
    "resize_and_rescale = tf.keras.Sequential([\n",
    "  keras.layers.experimental.preprocessing.Resizing(180, 180),\n",
    "  keras.layers.experimental.preprocessing.Rescaling(1./255),\n",
    "])"
   ]
  },
  {
   "cell_type": "code",
   "execution_count": 17,
   "metadata": {
    "id": "qH3YF6TF0ey4"
   },
   "outputs": [],
   "source": [
    "data_augmentation = keras.Sequential(\n",
    "  [\n",
    "    keras.layers.experimental.preprocessing.RandomFlip(\"horizontal\",\n",
    "                                                 input_shape=(180,\n",
    "                                                              180,\n",
    "                                                              3)),\n",
    "    keras.layers.experimental.preprocessing.RandomRotation(0.1),\n",
    "    keras.layers.experimental.preprocessing.RandomZoom(0.1),\n",
    "  ]\n",
    ")"
   ]
  },
  {
   "cell_type": "code",
   "execution_count": 18,
   "metadata": {
    "id": "kzf4QLj70lwA"
   },
   "outputs": [],
   "source": [
    "model=tf.keras.Sequential([\n",
    "    resize_and_rescale,\n",
    "    data_augmentation,\n",
    "    keras.layers.Conv2D(filters=12,kernel_size=(3,3),padding=\"same\",activation=\"relu\"),\n",
    "    keras.layers.MaxPooling2D(pool_size=(2,2)),\n",
    "    keras.layers.Conv2D(filters=34,kernel_size=(3,3),padding=\"same\",activation=\"relu\"),\n",
    "    keras.layers.MaxPooling2D(pool_size=(2,2)),\n",
    "    keras.layers.Conv2D(filters=62,kernel_size=(3,3),padding=\"same\",activation=\"relu\"),\n",
    "    keras.layers.MaxPooling2D(pool_size=(2,2)),\n",
    "    keras.layers.Conv2D(filters=86,kernel_size=(3,3),padding=\"same\",activation=\"relu\"),\n",
    "    keras.layers.MaxPooling2D(pool_size=(2,2)),\n",
    "    keras.layers.Flatten(),\n",
    "    keras.layers.Dense(100,activation=\"relu\"),\n",
    "    keras.layers.Dropout(0.2),\n",
    "    keras.layers.Dense(62,activation=\"relu\"),\n",
    "    keras.layers.Dropout(0.2),\n",
    "    keras.layers.Dense(32,activation=\"relu\"),\n",
    "    keras.layers.Dropout(0.2),\n",
    "    keras.layers.Dense(26,activation=\"softmax\"),\n",
    "])"
   ]
  },
  {
   "cell_type": "code",
   "execution_count": 19,
   "metadata": {
    "id": "B5sd57No1Y91"
   },
   "outputs": [],
   "source": [
    "model.compile(\n",
    "    optimizer=\"adam\",\n",
    "    loss=\"binary_crossentropy\",\n",
    "    metrics=[\"accuracy\"]\n",
    ")"
   ]
  },
  {
   "cell_type": "code",
   "execution_count": null,
   "metadata": {
    "colab": {
     "base_uri": "https://localhost:8080/"
    },
    "id": "RQpKRvJz1ekA",
    "outputId": "946f787f-1fe4-41ad-d0b7-453345940eff"
   },
   "outputs": [
    {
     "name": "stdout",
     "output_type": "stream",
     "text": [
      "Epoch 1/10\n",
      "376/376 [==============================] - 185s 487ms/step - loss: 0.2262 - accuracy: 0.0409\n",
      "Epoch 2/10\n",
      "376/376 [==============================] - 300s 798ms/step - loss: 0.1667 - accuracy: 0.0874\n",
      "Epoch 3/10\n",
      "376/376 [==============================] - 254s 675ms/step - loss: 0.1451 - accuracy: 0.1803\n",
      "Epoch 4/10\n",
      "376/376 [==============================] - 442s 1s/step - loss: 0.1301 - accuracy: 0.2607\n",
      "Epoch 5/10\n",
      "245/376 [==================>...........] - ETA: 2:43 - loss: 0.1208 - accuracy: 0.3103"
     ]
    }
   ],
   "source": [
    "model.fit(x_train,y_train,epochs=10)"
   ]
  },
  {
   "cell_type": "code",
   "execution_count": 147,
   "metadata": {
    "colab": {
     "base_uri": "https://localhost:8080/"
    },
    "id": "ymKVcNfh1khN",
    "outputId": "7c6aa84c-e34c-41d6-bcac-c4df741558f4"
   },
   "outputs": [
    {
     "name": "stdout",
     "output_type": "stream",
     "text": [
      "94/94 [==============================] - 1s 9ms/step - loss: 0.0534 - accuracy: 0.7831\n"
     ]
    },
    {
     "data": {
      "text/plain": [
       "[0.05336456000804901, 0.7831004858016968]"
      ]
     },
     "execution_count": 147,
     "metadata": {},
     "output_type": "execute_result"
    }
   ],
   "source": [
    "model.evaluate(x_test,y_test)"
   ]
  },
  {
   "cell_type": "code",
   "execution_count": 148,
   "metadata": {
    "colab": {
     "base_uri": "https://localhost:8080/"
    },
    "id": "nGUxG5Wb8Pkq",
    "outputId": "d1a2c3d6-3289-44ef-aa83-40ada42ea9a8"
   },
   "outputs": [
    {
     "name": "stdout",
     "output_type": "stream",
     "text": [
      "94/94 [==============================] - 1s 5ms/step\n"
     ]
    }
   ],
   "source": [
    "y_pre=model.predict(x_test)"
   ]
  },
  {
   "cell_type": "code",
   "execution_count": 149,
   "metadata": {
    "colab": {
     "base_uri": "https://localhost:8080/"
    },
    "id": "oIgREm6w9kbp",
    "outputId": "a50816b8-42a3-412e-ed9e-8b0757d9e23e"
   },
   "outputs": [
    {
     "data": {
      "text/plain": [
       "3006"
      ]
     },
     "execution_count": 149,
     "metadata": {},
     "output_type": "execute_result"
    }
   ],
   "source": [
    "len(y_pre)"
   ]
  },
  {
   "cell_type": "code",
   "execution_count": 150,
   "metadata": {
    "colab": {
     "base_uri": "https://localhost:8080/"
    },
    "id": "kNjUIF178jgf",
    "outputId": "6cdb50dd-3af4-454b-eac4-36087d8fa237"
   },
   "outputs": [
    {
     "data": {
      "text/plain": [
       "3006"
      ]
     },
     "execution_count": 150,
     "metadata": {},
     "output_type": "execute_result"
    }
   ],
   "source": [
    "len(y_test)"
   ]
  },
  {
   "cell_type": "code",
   "execution_count": 151,
   "metadata": {
    "id": "SjHS9CIb8aT6"
   },
   "outputs": [],
   "source": [
    "y_predic=[]\n",
    "for i in range(len(y_test)):\n",
    "  y_predic.append(np.argmax(y_pre[i]))"
   ]
  },
  {
   "cell_type": "code",
   "execution_count": 152,
   "metadata": {
    "id": "5azJNzzi9Wex"
   },
   "outputs": [],
   "source": [
    "y_predicte=np.array(y_predic)"
   ]
  },
  {
   "cell_type": "code",
   "execution_count": 153,
   "metadata": {
    "id": "4dOZ9uDr-a0t"
   },
   "outputs": [],
   "source": [
    "y_predicted=tf.keras.utils.to_categorical(y_predicte,26,dtype=\"float32\")"
   ]
  },
  {
   "cell_type": "code",
   "execution_count": 154,
   "metadata": {
    "colab": {
     "base_uri": "https://localhost:8080/"
    },
    "id": "qlpyahUz-x0x",
    "outputId": "e6b9e90d-199a-444b-b75e-729d4c371fb6"
   },
   "outputs": [
    {
     "data": {
      "text/plain": [
       "array([0., 0., 0., 0., 0., 0., 0., 0., 0., 0., 0., 0., 0., 0., 0., 1., 0.,\n",
       "       0., 0., 0., 0., 0., 0., 0., 0., 0.], dtype=float32)"
      ]
     },
     "execution_count": 154,
     "metadata": {},
     "output_type": "execute_result"
    }
   ],
   "source": [
    "y_test[0]"
   ]
  },
  {
   "cell_type": "code",
   "execution_count": 155,
   "metadata": {
    "colab": {
     "base_uri": "https://localhost:8080/"
    },
    "id": "RvTCxxZB-p_x",
    "outputId": "88f6fa3d-3273-4483-984b-7b3bb55a05ca"
   },
   "outputs": [
    {
     "data": {
      "text/plain": [
       "array([0., 0., 0., 0., 0., 0., 0., 0., 0., 0., 0., 0., 0., 0., 0., 1., 0.,\n",
       "       0., 0., 0., 0., 0., 0., 0., 0., 0.], dtype=float32)"
      ]
     },
     "execution_count": 155,
     "metadata": {},
     "output_type": "execute_result"
    }
   ],
   "source": [
    "y_predicted[0]"
   ]
  },
  {
   "cell_type": "code",
   "execution_count": 156,
   "metadata": {
    "id": "OVpLDnHn605V"
   },
   "outputs": [],
   "source": [
    "from sklearn.metrics import confusion_matrix,classification_report\n",
    "r=classification_report(y_test,y_predicted)"
   ]
  },
  {
   "cell_type": "code",
   "execution_count": 157,
   "metadata": {
    "colab": {
     "base_uri": "https://localhost:8080/"
    },
    "id": "u4cmxmP7_NTH",
    "outputId": "ebdcc259-af98-45de-a6c4-b42ea599b515"
   },
   "outputs": [
    {
     "name": "stdout",
     "output_type": "stream",
     "text": [
      "              precision    recall  f1-score   support\n",
      "\n",
      "           0       0.97      0.92      0.94       110\n",
      "           1       0.67      0.64      0.66       138\n",
      "           2       0.79      0.88      0.83       106\n",
      "           3       0.62      0.62      0.62       104\n",
      "           4       0.76      0.76      0.76       115\n",
      "           5       0.23      0.35      0.28       110\n",
      "           6       0.51      0.42      0.46       108\n",
      "           7       0.31      0.41      0.35       111\n",
      "           8       0.98      0.99      0.99       109\n",
      "           9       0.95      0.92      0.94       112\n",
      "          10       0.95      0.79      0.86       139\n",
      "          11       0.98      0.87      0.92        92\n",
      "          12       0.62      0.64      0.63       105\n",
      "          13       0.80      0.91      0.85       117\n",
      "          14       0.86      0.88      0.87       118\n",
      "          15       0.96      0.87      0.92       118\n",
      "          16       0.96      0.90      0.93       105\n",
      "          17       0.90      0.92      0.91       124\n",
      "          18       0.97      0.98      0.98       113\n",
      "          19       0.99      0.90      0.94       122\n",
      "          20       0.96      0.90      0.93       121\n",
      "          21       0.91      0.87      0.89       126\n",
      "          22       0.64      0.58      0.61       132\n",
      "          23       0.99      0.70      0.82       118\n",
      "          24       0.61      0.80      0.69       108\n",
      "          25       0.95      0.94      0.94       125\n",
      "\n",
      "   micro avg       0.78      0.78      0.78      3006\n",
      "   macro avg       0.80      0.78      0.79      3006\n",
      "weighted avg       0.80      0.78      0.79      3006\n",
      " samples avg       0.78      0.78      0.78      3006\n",
      "\n"
     ]
    }
   ],
   "source": [
    "print(r)"
   ]
  },
  {
   "cell_type": "code",
   "execution_count": 158,
   "metadata": {
    "colab": {
     "base_uri": "https://localhost:8080/"
    },
    "id": "pFBPOBMQ_O7_",
    "outputId": "3c500830-0cd3-472e-e758-f34f45a84ee9"
   },
   "outputs": [
    {
     "name": "stderr",
     "output_type": "stream",
     "text": [
      "WARNING:absl:Found untraced functions such as _jit_compiled_convolution_op, _jit_compiled_convolution_op, _jit_compiled_convolution_op, _jit_compiled_convolution_op, _update_step_xla while saving (showing 5 of 5). These functions will not be directly callable after loading.\n"
     ]
    }
   ],
   "source": [
    "model.save(\"Vegetable_CNN\")"
   ]
  },
  {
   "cell_type": "code",
   "execution_count": 159,
   "metadata": {
    "colab": {
     "base_uri": "https://localhost:8080/"
    },
    "id": "iFej61LMOz5j",
    "outputId": "ba5c32fa-7e4c-4f76-ab62-2254dbed92b2"
   },
   "outputs": [
    {
     "name": "stdout",
     "output_type": "stream",
     "text": [
      "  adding: content/Vegetable_CNN/ (stored 0%)\n",
      "  adding: content/Vegetable_CNN/assets/ (stored 0%)\n",
      "  adding: content/Vegetable_CNN/keras_metadata.pb (deflated 93%)\n",
      "  adding: content/Vegetable_CNN/fingerprint.pb (stored 0%)\n",
      "  adding: content/Vegetable_CNN/saved_model.pb (deflated 90%)\n",
      "  adding: content/Vegetable_CNN/variables/ (stored 0%)\n",
      "  adding: content/Vegetable_CNN/variables/variables.data-00000-of-00001 (deflated 28%)\n",
      "  adding: content/Vegetable_CNN/variables/variables.index (deflated 65%)\n"
     ]
    }
   ],
   "source": [
    "!zip -r Vegetable_CNN.zip /content/Vegetable_CNN"
   ]
  },
  {
   "cell_type": "code",
   "execution_count": 160,
   "metadata": {
    "id": "gN7Pe1wNPKpL"
   },
   "outputs": [],
   "source": [
    "ur=\"/tyson4.jpg\""
   ]
  },
  {
   "cell_type": "code",
   "execution_count": 161,
   "metadata": {
    "id": "UUUO1CK_Ps7v"
   },
   "outputs": [],
   "source": [
    "dc=pathlib.Path(ur)"
   ]
  },
  {
   "cell_type": "code",
   "execution_count": 165,
   "metadata": {
    "id": "tAzNtkO1PxMU"
   },
   "outputs": [],
   "source": [
    "xc=cv2.imread(str(dc))"
   ]
  },
  {
   "cell_type": "code",
   "execution_count": 166,
   "metadata": {
    "colab": {
     "base_uri": "https://localhost:8080/"
    },
    "id": "gqln3Vu-QCrt",
    "outputId": "878cb1f9-6700-41cf-bbcd-18cdaddae702"
   },
   "outputs": [
    {
     "name": "stdout",
     "output_type": "stream",
     "text": [
      "1/1 [==============================] - 1s 746ms/step\n",
      "[[4.8756578e-20 1.0128852e-03 2.2968633e-13 8.8121880e-05 3.7420591e-07\n",
      "  6.1292539e-04 1.9257632e-06 9.9820721e-01 0.0000000e+00 1.6366583e-20\n",
      "  3.0086754e-15 8.4867020e-19 5.8545280e-09 1.4234781e-09 4.5379078e-09\n",
      "  1.3507535e-13 2.9562394e-15 4.3173628e-08 4.3465727e-26 3.3196190e-16\n",
      "  9.1649596e-12 2.0322379e-07 1.6108756e-05 4.6232555e-05 1.3902383e-05\n",
      "  4.4941073e-17]]\n"
     ]
    }
   ],
   "source": [
    "xc = np.expand_dims(xc, axis=0)\n",
    "q=model.predict(xc)\n",
    "print(q)"
   ]
  },
  {
   "cell_type": "code",
   "execution_count": 167,
   "metadata": {
    "colab": {
     "base_uri": "https://localhost:8080/"
    },
    "id": "GcNZPWoHP3Hw",
    "outputId": "0528c8c1-4bca-4fb0-b692-3a6f335a7d1b"
   },
   "outputs": [
    {
     "name": "stdout",
     "output_type": "stream",
     "text": [
      "Peas\n"
     ]
    }
   ],
   "source": [
    "vis=np.argmax(q)\n",
    "for ip,jp in label_dic.items():\n",
    "    if jp==vis:\n",
    "      print(ip)\n",
    "      break"
   ]
  },
  {
   "cell_type": "code",
   "execution_count": null,
   "metadata": {
    "id": "1VazlTS7Q1gz"
   },
   "outputs": [],
   "source": []
  }
 ],
 "metadata": {
  "accelerator": "GPU",
  "colab": {
   "gpuType": "T4",
   "provenance": []
  },
  "kernelspec": {
   "display_name": "Python 3 (ipykernel)",
   "language": "python",
   "name": "python3"
  },
  "language_info": {
   "codemirror_mode": {
    "name": "ipython",
    "version": 3
   },
   "file_extension": ".py",
   "mimetype": "text/x-python",
   "name": "python",
   "nbconvert_exporter": "python",
   "pygments_lexer": "ipython3",
   "version": "3.11.3"
  }
 },
 "nbformat": 4,
 "nbformat_minor": 1
}
