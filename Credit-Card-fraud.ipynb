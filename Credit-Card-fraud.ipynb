{
 "cells": [
  {
   "cell_type": "code",
   "execution_count": 1,
   "metadata": {
    "execution": {
     "iopub.execute_input": "2023-07-17T08:41:06.919937Z",
     "iopub.status.busy": "2023-07-17T08:41:06.919230Z",
     "iopub.status.idle": "2023-07-17T08:41:06.925615Z",
     "shell.execute_reply": "2023-07-17T08:41:06.924691Z",
     "shell.execute_reply.started": "2023-07-17T08:41:06.919903Z"
    }
   },
   "outputs": [],
   "source": [
    "import pandas as pd\n",
    "import numpy as np\n",
    "import matplotlib.pyplot as plt\n",
    "%matplotlib inline"
   ]
  },
  {
   "cell_type": "code",
   "execution_count": 2,
   "metadata": {
    "execution": {
     "iopub.execute_input": "2023-07-17T08:41:07.472710Z",
     "iopub.status.busy": "2023-07-17T08:41:07.471710Z",
     "iopub.status.idle": "2023-07-17T08:41:08.619893Z",
     "shell.execute_reply": "2023-07-17T08:41:08.618895Z",
     "shell.execute_reply.started": "2023-07-17T08:41:07.472667Z"
    }
   },
   "outputs": [],
   "source": [
    "df=pd.read_csv(\"card_transdata.csv\")"
   ]
  },
  {
   "cell_type": "code",
   "execution_count": 3,
   "metadata": {
    "execution": {
     "iopub.execute_input": "2023-07-17T08:41:08.622275Z",
     "iopub.status.busy": "2023-07-17T08:41:08.621922Z",
     "iopub.status.idle": "2023-07-17T08:41:08.641005Z",
     "shell.execute_reply": "2023-07-17T08:41:08.639891Z",
     "shell.execute_reply.started": "2023-07-17T08:41:08.622241Z"
    }
   },
   "outputs": [
    {
     "data": {
      "text/html": [
       "<div>\n",
       "<style scoped>\n",
       "    .dataframe tbody tr th:only-of-type {\n",
       "        vertical-align: middle;\n",
       "    }\n",
       "\n",
       "    .dataframe tbody tr th {\n",
       "        vertical-align: top;\n",
       "    }\n",
       "\n",
       "    .dataframe thead th {\n",
       "        text-align: right;\n",
       "    }\n",
       "</style>\n",
       "<table border=\"1\" class=\"dataframe\">\n",
       "  <thead>\n",
       "    <tr style=\"text-align: right;\">\n",
       "      <th></th>\n",
       "      <th>distance_from_home</th>\n",
       "      <th>distance_from_last_transaction</th>\n",
       "      <th>ratio_to_median_purchase_price</th>\n",
       "      <th>repeat_retailer</th>\n",
       "      <th>used_chip</th>\n",
       "      <th>used_pin_number</th>\n",
       "      <th>online_order</th>\n",
       "      <th>fraud</th>\n",
       "    </tr>\n",
       "  </thead>\n",
       "  <tbody>\n",
       "    <tr>\n",
       "      <th>0</th>\n",
       "      <td>57.877857</td>\n",
       "      <td>0.311140</td>\n",
       "      <td>1.945940</td>\n",
       "      <td>1.0</td>\n",
       "      <td>1.0</td>\n",
       "      <td>0.0</td>\n",
       "      <td>0.0</td>\n",
       "      <td>0.0</td>\n",
       "    </tr>\n",
       "    <tr>\n",
       "      <th>1</th>\n",
       "      <td>10.829943</td>\n",
       "      <td>0.175592</td>\n",
       "      <td>1.294219</td>\n",
       "      <td>1.0</td>\n",
       "      <td>0.0</td>\n",
       "      <td>0.0</td>\n",
       "      <td>0.0</td>\n",
       "      <td>0.0</td>\n",
       "    </tr>\n",
       "    <tr>\n",
       "      <th>2</th>\n",
       "      <td>5.091079</td>\n",
       "      <td>0.805153</td>\n",
       "      <td>0.427715</td>\n",
       "      <td>1.0</td>\n",
       "      <td>0.0</td>\n",
       "      <td>0.0</td>\n",
       "      <td>1.0</td>\n",
       "      <td>0.0</td>\n",
       "    </tr>\n",
       "    <tr>\n",
       "      <th>3</th>\n",
       "      <td>2.247564</td>\n",
       "      <td>5.600044</td>\n",
       "      <td>0.362663</td>\n",
       "      <td>1.0</td>\n",
       "      <td>1.0</td>\n",
       "      <td>0.0</td>\n",
       "      <td>1.0</td>\n",
       "      <td>0.0</td>\n",
       "    </tr>\n",
       "    <tr>\n",
       "      <th>4</th>\n",
       "      <td>44.190936</td>\n",
       "      <td>0.566486</td>\n",
       "      <td>2.222767</td>\n",
       "      <td>1.0</td>\n",
       "      <td>1.0</td>\n",
       "      <td>0.0</td>\n",
       "      <td>1.0</td>\n",
       "      <td>0.0</td>\n",
       "    </tr>\n",
       "  </tbody>\n",
       "</table>\n",
       "</div>"
      ],
      "text/plain": [
       "   distance_from_home  distance_from_last_transaction  \\\n",
       "0           57.877857                        0.311140   \n",
       "1           10.829943                        0.175592   \n",
       "2            5.091079                        0.805153   \n",
       "3            2.247564                        5.600044   \n",
       "4           44.190936                        0.566486   \n",
       "\n",
       "   ratio_to_median_purchase_price  repeat_retailer  used_chip  \\\n",
       "0                        1.945940              1.0        1.0   \n",
       "1                        1.294219              1.0        0.0   \n",
       "2                        0.427715              1.0        0.0   \n",
       "3                        0.362663              1.0        1.0   \n",
       "4                        2.222767              1.0        1.0   \n",
       "\n",
       "   used_pin_number  online_order  fraud  \n",
       "0              0.0           0.0    0.0  \n",
       "1              0.0           0.0    0.0  \n",
       "2              0.0           1.0    0.0  \n",
       "3              0.0           1.0    0.0  \n",
       "4              0.0           1.0    0.0  "
      ]
     },
     "execution_count": 3,
     "metadata": {},
     "output_type": "execute_result"
    }
   ],
   "source": [
    "df.head()"
   ]
  },
  {
   "cell_type": "code",
   "execution_count": 4,
   "metadata": {},
   "outputs": [
    {
     "data": {
      "text/html": [
       "<div>\n",
       "<style scoped>\n",
       "    .dataframe tbody tr th:only-of-type {\n",
       "        vertical-align: middle;\n",
       "    }\n",
       "\n",
       "    .dataframe tbody tr th {\n",
       "        vertical-align: top;\n",
       "    }\n",
       "\n",
       "    .dataframe thead th {\n",
       "        text-align: right;\n",
       "    }\n",
       "</style>\n",
       "<table border=\"1\" class=\"dataframe\">\n",
       "  <thead>\n",
       "    <tr style=\"text-align: right;\">\n",
       "      <th></th>\n",
       "      <th>distance_from_home</th>\n",
       "      <th>distance_from_last_transaction</th>\n",
       "      <th>ratio_to_median_purchase_price</th>\n",
       "      <th>repeat_retailer</th>\n",
       "      <th>used_chip</th>\n",
       "      <th>used_pin_number</th>\n",
       "      <th>online_order</th>\n",
       "      <th>fraud</th>\n",
       "    </tr>\n",
       "  </thead>\n",
       "  <tbody>\n",
       "    <tr>\n",
       "      <th>1</th>\n",
       "      <td>10.829943</td>\n",
       "      <td>0.175592</td>\n",
       "      <td>1.294219</td>\n",
       "      <td>1.0</td>\n",
       "      <td>0.0</td>\n",
       "      <td>0.0</td>\n",
       "      <td>0.0</td>\n",
       "      <td>0.0</td>\n",
       "    </tr>\n",
       "  </tbody>\n",
       "</table>\n",
       "</div>"
      ],
      "text/plain": [
       "   distance_from_home  distance_from_last_transaction  \\\n",
       "1           10.829943                        0.175592   \n",
       "\n",
       "   ratio_to_median_purchase_price  repeat_retailer  used_chip  \\\n",
       "1                        1.294219              1.0        0.0   \n",
       "\n",
       "   used_pin_number  online_order  fraud  \n",
       "1              0.0           0.0    0.0  "
      ]
     },
     "execution_count": 4,
     "metadata": {},
     "output_type": "execute_result"
    }
   ],
   "source": [
    "pd.DataFrame(df.iloc[1,:]).transpose()"
   ]
  },
  {
   "cell_type": "code",
   "execution_count": null,
   "metadata": {},
   "outputs": [],
   "source": []
  },
  {
   "cell_type": "code",
   "execution_count": 5,
   "metadata": {},
   "outputs": [
    {
     "data": {
      "text/plain": [
       "0.0    912597\n",
       "1.0     87403\n",
       "Name: fraud, dtype: int64"
      ]
     },
     "execution_count": 5,
     "metadata": {},
     "output_type": "execute_result"
    }
   ],
   "source": [
    "df.fraud.value_counts()"
   ]
  },
  {
   "cell_type": "code",
   "execution_count": 6,
   "metadata": {
    "execution": {
     "iopub.execute_input": "2023-07-17T08:41:08.643231Z",
     "iopub.status.busy": "2023-07-17T08:41:08.642656Z",
     "iopub.status.idle": "2023-07-17T08:41:08.679693Z",
     "shell.execute_reply": "2023-07-17T08:41:08.678656Z",
     "shell.execute_reply.started": "2023-07-17T08:41:08.643195Z"
    }
   },
   "outputs": [],
   "source": [
    "rf=df[df.fraud==0.0]"
   ]
  },
  {
   "cell_type": "code",
   "execution_count": null,
   "metadata": {},
   "outputs": [],
   "source": []
  },
  {
   "cell_type": "code",
   "execution_count": 7,
   "metadata": {
    "execution": {
     "iopub.execute_input": "2023-07-17T08:41:08.682509Z",
     "iopub.status.busy": "2023-07-17T08:41:08.682106Z",
     "iopub.status.idle": "2023-07-17T08:41:08.749956Z",
     "shell.execute_reply": "2023-07-17T08:41:08.748876Z",
     "shell.execute_reply.started": "2023-07-17T08:41:08.682467Z"
    }
   },
   "outputs": [],
   "source": [
    "rf1=df[df.fraud==1.0]\n",
    "rf2=rf.sample(300000)"
   ]
  },
  {
   "cell_type": "code",
   "execution_count": 8,
   "metadata": {},
   "outputs": [
    {
     "data": {
      "text/html": [
       "<div>\n",
       "<style scoped>\n",
       "    .dataframe tbody tr th:only-of-type {\n",
       "        vertical-align: middle;\n",
       "    }\n",
       "\n",
       "    .dataframe tbody tr th {\n",
       "        vertical-align: top;\n",
       "    }\n",
       "\n",
       "    .dataframe thead th {\n",
       "        text-align: right;\n",
       "    }\n",
       "</style>\n",
       "<table border=\"1\" class=\"dataframe\">\n",
       "  <thead>\n",
       "    <tr style=\"text-align: right;\">\n",
       "      <th></th>\n",
       "      <th>distance_from_home</th>\n",
       "      <th>distance_from_last_transaction</th>\n",
       "      <th>ratio_to_median_purchase_price</th>\n",
       "      <th>repeat_retailer</th>\n",
       "      <th>used_chip</th>\n",
       "      <th>used_pin_number</th>\n",
       "      <th>online_order</th>\n",
       "      <th>fraud</th>\n",
       "    </tr>\n",
       "  </thead>\n",
       "  <tbody>\n",
       "    <tr>\n",
       "      <th>count</th>\n",
       "      <td>300000.000000</td>\n",
       "      <td>300000.000000</td>\n",
       "      <td>300000.000000</td>\n",
       "      <td>300000.000000</td>\n",
       "      <td>300000.000000</td>\n",
       "      <td>300000.000000</td>\n",
       "      <td>300000.000000</td>\n",
       "      <td>300000.0</td>\n",
       "    </tr>\n",
       "    <tr>\n",
       "      <th>mean</th>\n",
       "      <td>22.923618</td>\n",
       "      <td>4.247208</td>\n",
       "      <td>1.427813</td>\n",
       "      <td>0.881937</td>\n",
       "      <td>0.359080</td>\n",
       "      <td>0.109693</td>\n",
       "      <td>0.623047</td>\n",
       "      <td>0.0</td>\n",
       "    </tr>\n",
       "    <tr>\n",
       "      <th>std</th>\n",
       "      <td>51.853788</td>\n",
       "      <td>18.053670</td>\n",
       "      <td>1.998339</td>\n",
       "      <td>0.322684</td>\n",
       "      <td>0.479732</td>\n",
       "      <td>0.312508</td>\n",
       "      <td>0.484624</td>\n",
       "      <td>0.0</td>\n",
       "    </tr>\n",
       "    <tr>\n",
       "      <th>min</th>\n",
       "      <td>0.021322</td>\n",
       "      <td>0.000419</td>\n",
       "      <td>0.004399</td>\n",
       "      <td>0.000000</td>\n",
       "      <td>0.000000</td>\n",
       "      <td>0.000000</td>\n",
       "      <td>0.000000</td>\n",
       "      <td>0.0</td>\n",
       "    </tr>\n",
       "    <tr>\n",
       "      <th>25%</th>\n",
       "      <td>3.835473</td>\n",
       "      <td>0.293535</td>\n",
       "      <td>0.450096</td>\n",
       "      <td>1.000000</td>\n",
       "      <td>0.000000</td>\n",
       "      <td>0.000000</td>\n",
       "      <td>0.000000</td>\n",
       "      <td>0.0</td>\n",
       "    </tr>\n",
       "    <tr>\n",
       "      <th>50%</th>\n",
       "      <td>9.709938</td>\n",
       "      <td>0.982946</td>\n",
       "      <td>0.915651</td>\n",
       "      <td>1.000000</td>\n",
       "      <td>0.000000</td>\n",
       "      <td>0.000000</td>\n",
       "      <td>1.000000</td>\n",
       "      <td>0.0</td>\n",
       "    </tr>\n",
       "    <tr>\n",
       "      <th>75%</th>\n",
       "      <td>24.118983</td>\n",
       "      <td>3.266256</td>\n",
       "      <td>1.791933</td>\n",
       "      <td>1.000000</td>\n",
       "      <td>1.000000</td>\n",
       "      <td>0.000000</td>\n",
       "      <td>1.000000</td>\n",
       "      <td>0.0</td>\n",
       "    </tr>\n",
       "    <tr>\n",
       "      <th>max</th>\n",
       "      <td>3981.367512</td>\n",
       "      <td>3437.278746</td>\n",
       "      <td>267.802942</td>\n",
       "      <td>1.000000</td>\n",
       "      <td>1.000000</td>\n",
       "      <td>1.000000</td>\n",
       "      <td>1.000000</td>\n",
       "      <td>0.0</td>\n",
       "    </tr>\n",
       "  </tbody>\n",
       "</table>\n",
       "</div>"
      ],
      "text/plain": [
       "       distance_from_home  distance_from_last_transaction  \\\n",
       "count       300000.000000                   300000.000000   \n",
       "mean            22.923618                        4.247208   \n",
       "std             51.853788                       18.053670   \n",
       "min              0.021322                        0.000419   \n",
       "25%              3.835473                        0.293535   \n",
       "50%              9.709938                        0.982946   \n",
       "75%             24.118983                        3.266256   \n",
       "max           3981.367512                     3437.278746   \n",
       "\n",
       "       ratio_to_median_purchase_price  repeat_retailer      used_chip  \\\n",
       "count                   300000.000000    300000.000000  300000.000000   \n",
       "mean                         1.427813         0.881937       0.359080   \n",
       "std                          1.998339         0.322684       0.479732   \n",
       "min                          0.004399         0.000000       0.000000   \n",
       "25%                          0.450096         1.000000       0.000000   \n",
       "50%                          0.915651         1.000000       0.000000   \n",
       "75%                          1.791933         1.000000       1.000000   \n",
       "max                        267.802942         1.000000       1.000000   \n",
       "\n",
       "       used_pin_number   online_order     fraud  \n",
       "count    300000.000000  300000.000000  300000.0  \n",
       "mean          0.109693       0.623047       0.0  \n",
       "std           0.312508       0.484624       0.0  \n",
       "min           0.000000       0.000000       0.0  \n",
       "25%           0.000000       0.000000       0.0  \n",
       "50%           0.000000       1.000000       0.0  \n",
       "75%           0.000000       1.000000       0.0  \n",
       "max           1.000000       1.000000       0.0  "
      ]
     },
     "execution_count": 8,
     "metadata": {},
     "output_type": "execute_result"
    }
   ],
   "source": [
    "rf2.describe()"
   ]
  },
  {
   "cell_type": "code",
   "execution_count": 9,
   "metadata": {
    "execution": {
     "iopub.execute_input": "2023-07-17T08:41:08.752059Z",
     "iopub.status.busy": "2023-07-17T08:41:08.751666Z",
     "iopub.status.idle": "2023-07-17T08:41:08.802478Z",
     "shell.execute_reply": "2023-07-17T08:41:08.801442Z",
     "shell.execute_reply.started": "2023-07-17T08:41:08.752022Z"
    }
   },
   "outputs": [],
   "source": [
    "main_df = df.drop(rf2.index)"
   ]
  },
  {
   "cell_type": "code",
   "execution_count": 10,
   "metadata": {
    "execution": {
     "iopub.execute_input": "2023-07-17T08:41:08.805092Z",
     "iopub.status.busy": "2023-07-17T08:41:08.804713Z",
     "iopub.status.idle": "2023-07-17T08:41:08.817377Z",
     "shell.execute_reply": "2023-07-17T08:41:08.816468Z",
     "shell.execute_reply.started": "2023-07-17T08:41:08.805057Z"
    }
   },
   "outputs": [
    {
     "data": {
      "text/plain": [
       "0.0    612597\n",
       "1.0     87403\n",
       "Name: fraud, dtype: int64"
      ]
     },
     "execution_count": 10,
     "metadata": {},
     "output_type": "execute_result"
    }
   ],
   "source": [
    "main_df.fraud.value_counts()"
   ]
  },
  {
   "cell_type": "code",
   "execution_count": 11,
   "metadata": {
    "execution": {
     "iopub.execute_input": "2023-07-17T08:41:08.942486Z",
     "iopub.status.busy": "2023-07-17T08:41:08.942047Z",
     "iopub.status.idle": "2023-07-17T08:41:08.963015Z",
     "shell.execute_reply": "2023-07-17T08:41:08.962149Z",
     "shell.execute_reply.started": "2023-07-17T08:41:08.942460Z"
    }
   },
   "outputs": [],
   "source": [
    "df=main_df.copy()"
   ]
  },
  {
   "cell_type": "code",
   "execution_count": 12,
   "metadata": {
    "execution": {
     "iopub.execute_input": "2023-07-17T08:41:09.119273Z",
     "iopub.status.busy": "2023-07-17T08:41:09.119001Z",
     "iopub.status.idle": "2023-07-17T08:41:09.133586Z",
     "shell.execute_reply": "2023-07-17T08:41:09.132275Z",
     "shell.execute_reply.started": "2023-07-17T08:41:09.119248Z"
    }
   },
   "outputs": [
    {
     "data": {
      "text/plain": [
       "0.0    612597\n",
       "1.0     87403\n",
       "Name: fraud, dtype: int64"
      ]
     },
     "execution_count": 12,
     "metadata": {},
     "output_type": "execute_result"
    }
   ],
   "source": [
    "df.fraud.value_counts()"
   ]
  },
  {
   "cell_type": "code",
   "execution_count": 13,
   "metadata": {
    "execution": {
     "iopub.execute_input": "2023-07-17T08:41:09.305277Z",
     "iopub.status.busy": "2023-07-17T08:41:09.304995Z",
     "iopub.status.idle": "2023-07-17T08:41:09.326412Z",
     "shell.execute_reply": "2023-07-17T08:41:09.325206Z",
     "shell.execute_reply.started": "2023-07-17T08:41:09.305252Z"
    }
   },
   "outputs": [],
   "source": [
    "y=df[\"fraud\"]\n",
    "df1=df.drop(\"fraud\",axis=1)"
   ]
  },
  {
   "cell_type": "code",
   "execution_count": 14,
   "metadata": {
    "execution": {
     "iopub.execute_input": "2023-07-17T08:41:09.502365Z",
     "iopub.status.busy": "2023-07-17T08:41:09.502024Z",
     "iopub.status.idle": "2023-07-17T08:41:09.519358Z",
     "shell.execute_reply": "2023-07-17T08:41:09.518367Z",
     "shell.execute_reply.started": "2023-07-17T08:41:09.502331Z"
    }
   },
   "outputs": [
    {
     "data": {
      "text/html": [
       "<div>\n",
       "<style scoped>\n",
       "    .dataframe tbody tr th:only-of-type {\n",
       "        vertical-align: middle;\n",
       "    }\n",
       "\n",
       "    .dataframe tbody tr th {\n",
       "        vertical-align: top;\n",
       "    }\n",
       "\n",
       "    .dataframe thead th {\n",
       "        text-align: right;\n",
       "    }\n",
       "</style>\n",
       "<table border=\"1\" class=\"dataframe\">\n",
       "  <thead>\n",
       "    <tr style=\"text-align: right;\">\n",
       "      <th></th>\n",
       "      <th>distance_from_home</th>\n",
       "      <th>distance_from_last_transaction</th>\n",
       "      <th>ratio_to_median_purchase_price</th>\n",
       "      <th>repeat_retailer</th>\n",
       "      <th>used_chip</th>\n",
       "      <th>used_pin_number</th>\n",
       "      <th>online_order</th>\n",
       "    </tr>\n",
       "  </thead>\n",
       "  <tbody>\n",
       "    <tr>\n",
       "      <th>0</th>\n",
       "      <td>57.877857</td>\n",
       "      <td>0.311140</td>\n",
       "      <td>1.945940</td>\n",
       "      <td>1.0</td>\n",
       "      <td>1.0</td>\n",
       "      <td>0.0</td>\n",
       "      <td>0.0</td>\n",
       "    </tr>\n",
       "    <tr>\n",
       "      <th>1</th>\n",
       "      <td>10.829943</td>\n",
       "      <td>0.175592</td>\n",
       "      <td>1.294219</td>\n",
       "      <td>1.0</td>\n",
       "      <td>0.0</td>\n",
       "      <td>0.0</td>\n",
       "      <td>0.0</td>\n",
       "    </tr>\n",
       "    <tr>\n",
       "      <th>2</th>\n",
       "      <td>5.091079</td>\n",
       "      <td>0.805153</td>\n",
       "      <td>0.427715</td>\n",
       "      <td>1.0</td>\n",
       "      <td>0.0</td>\n",
       "      <td>0.0</td>\n",
       "      <td>1.0</td>\n",
       "    </tr>\n",
       "    <tr>\n",
       "      <th>3</th>\n",
       "      <td>2.247564</td>\n",
       "      <td>5.600044</td>\n",
       "      <td>0.362663</td>\n",
       "      <td>1.0</td>\n",
       "      <td>1.0</td>\n",
       "      <td>0.0</td>\n",
       "      <td>1.0</td>\n",
       "    </tr>\n",
       "    <tr>\n",
       "      <th>4</th>\n",
       "      <td>44.190936</td>\n",
       "      <td>0.566486</td>\n",
       "      <td>2.222767</td>\n",
       "      <td>1.0</td>\n",
       "      <td>1.0</td>\n",
       "      <td>0.0</td>\n",
       "      <td>1.0</td>\n",
       "    </tr>\n",
       "  </tbody>\n",
       "</table>\n",
       "</div>"
      ],
      "text/plain": [
       "   distance_from_home  distance_from_last_transaction  \\\n",
       "0           57.877857                        0.311140   \n",
       "1           10.829943                        0.175592   \n",
       "2            5.091079                        0.805153   \n",
       "3            2.247564                        5.600044   \n",
       "4           44.190936                        0.566486   \n",
       "\n",
       "   ratio_to_median_purchase_price  repeat_retailer  used_chip  \\\n",
       "0                        1.945940              1.0        1.0   \n",
       "1                        1.294219              1.0        0.0   \n",
       "2                        0.427715              1.0        0.0   \n",
       "3                        0.362663              1.0        1.0   \n",
       "4                        2.222767              1.0        1.0   \n",
       "\n",
       "   used_pin_number  online_order  \n",
       "0              0.0           0.0  \n",
       "1              0.0           0.0  \n",
       "2              0.0           1.0  \n",
       "3              0.0           1.0  \n",
       "4              0.0           1.0  "
      ]
     },
     "execution_count": 14,
     "metadata": {},
     "output_type": "execute_result"
    }
   ],
   "source": [
    "df1.head()"
   ]
  },
  {
   "cell_type": "code",
   "execution_count": 15,
   "metadata": {
    "execution": {
     "iopub.execute_input": "2023-07-17T08:41:09.700372Z",
     "iopub.status.busy": "2023-07-17T08:41:09.700067Z",
     "iopub.status.idle": "2023-07-17T08:41:09.707750Z",
     "shell.execute_reply": "2023-07-17T08:41:09.706653Z",
     "shell.execute_reply.started": "2023-07-17T08:41:09.700334Z"
    }
   },
   "outputs": [
    {
     "data": {
      "text/plain": [
       "distance_from_home                float64\n",
       "distance_from_last_transaction    float64\n",
       "ratio_to_median_purchase_price    float64\n",
       "repeat_retailer                   float64\n",
       "used_chip                         float64\n",
       "used_pin_number                   float64\n",
       "online_order                      float64\n",
       "dtype: object"
      ]
     },
     "execution_count": 15,
     "metadata": {},
     "output_type": "execute_result"
    }
   ],
   "source": [
    "df1.dtypes"
   ]
  },
  {
   "cell_type": "code",
   "execution_count": 16,
   "metadata": {
    "execution": {
     "iopub.execute_input": "2023-07-17T08:41:09.883687Z",
     "iopub.status.busy": "2023-07-17T08:41:09.883178Z",
     "iopub.status.idle": "2023-07-17T08:41:10.050497Z",
     "shell.execute_reply": "2023-07-17T08:41:10.049384Z",
     "shell.execute_reply.started": "2023-07-17T08:41:09.883661Z"
    }
   },
   "outputs": [
    {
     "data": {
      "text/html": [
       "<div>\n",
       "<style scoped>\n",
       "    .dataframe tbody tr th:only-of-type {\n",
       "        vertical-align: middle;\n",
       "    }\n",
       "\n",
       "    .dataframe tbody tr th {\n",
       "        vertical-align: top;\n",
       "    }\n",
       "\n",
       "    .dataframe thead th {\n",
       "        text-align: right;\n",
       "    }\n",
       "</style>\n",
       "<table border=\"1\" class=\"dataframe\">\n",
       "  <thead>\n",
       "    <tr style=\"text-align: right;\">\n",
       "      <th></th>\n",
       "      <th>distance_from_home</th>\n",
       "      <th>distance_from_last_transaction</th>\n",
       "      <th>ratio_to_median_purchase_price</th>\n",
       "      <th>repeat_retailer</th>\n",
       "      <th>used_chip</th>\n",
       "      <th>used_pin_number</th>\n",
       "      <th>online_order</th>\n",
       "    </tr>\n",
       "  </thead>\n",
       "  <tbody>\n",
       "    <tr>\n",
       "      <th>count</th>\n",
       "      <td>700000.000000</td>\n",
       "      <td>700000.000000</td>\n",
       "      <td>700000.000000</td>\n",
       "      <td>700000.000000</td>\n",
       "      <td>700000.000000</td>\n",
       "      <td>700000.000000</td>\n",
       "      <td>700000.000000</td>\n",
       "    </tr>\n",
       "    <tr>\n",
       "      <th>mean</th>\n",
       "      <td>28.216724</td>\n",
       "      <td>5.374796</td>\n",
       "      <td>1.994054</td>\n",
       "      <td>0.881364</td>\n",
       "      <td>0.346679</td>\n",
       "      <td>0.096714</td>\n",
       "      <td>0.662340</td>\n",
       "    </tr>\n",
       "    <tr>\n",
       "      <th>std</th>\n",
       "      <td>70.340294</td>\n",
       "      <td>28.531147</td>\n",
       "      <td>3.064163</td>\n",
       "      <td>0.323360</td>\n",
       "      <td>0.475913</td>\n",
       "      <td>0.295569</td>\n",
       "      <td>0.472912</td>\n",
       "    </tr>\n",
       "    <tr>\n",
       "      <th>min</th>\n",
       "      <td>0.004874</td>\n",
       "      <td>0.000118</td>\n",
       "      <td>0.007278</td>\n",
       "      <td>0.000000</td>\n",
       "      <td>0.000000</td>\n",
       "      <td>0.000000</td>\n",
       "      <td>0.000000</td>\n",
       "    </tr>\n",
       "    <tr>\n",
       "      <th>25%</th>\n",
       "      <td>3.895847</td>\n",
       "      <td>0.297999</td>\n",
       "      <td>0.487725</td>\n",
       "      <td>1.000000</td>\n",
       "      <td>0.000000</td>\n",
       "      <td>0.000000</td>\n",
       "      <td>0.000000</td>\n",
       "    </tr>\n",
       "    <tr>\n",
       "      <th>50%</th>\n",
       "      <td>10.085063</td>\n",
       "      <td>1.004921</td>\n",
       "      <td>1.039303</td>\n",
       "      <td>1.000000</td>\n",
       "      <td>0.000000</td>\n",
       "      <td>0.000000</td>\n",
       "      <td>1.000000</td>\n",
       "    </tr>\n",
       "    <tr>\n",
       "      <th>75%</th>\n",
       "      <td>26.505248</td>\n",
       "      <td>3.396259</td>\n",
       "      <td>2.266930</td>\n",
       "      <td>1.000000</td>\n",
       "      <td>1.000000</td>\n",
       "      <td>0.000000</td>\n",
       "      <td>1.000000</td>\n",
       "    </tr>\n",
       "    <tr>\n",
       "      <th>max</th>\n",
       "      <td>10632.723672</td>\n",
       "      <td>11851.104565</td>\n",
       "      <td>266.689692</td>\n",
       "      <td>1.000000</td>\n",
       "      <td>1.000000</td>\n",
       "      <td>1.000000</td>\n",
       "      <td>1.000000</td>\n",
       "    </tr>\n",
       "  </tbody>\n",
       "</table>\n",
       "</div>"
      ],
      "text/plain": [
       "       distance_from_home  distance_from_last_transaction  \\\n",
       "count       700000.000000                   700000.000000   \n",
       "mean            28.216724                        5.374796   \n",
       "std             70.340294                       28.531147   \n",
       "min              0.004874                        0.000118   \n",
       "25%              3.895847                        0.297999   \n",
       "50%             10.085063                        1.004921   \n",
       "75%             26.505248                        3.396259   \n",
       "max          10632.723672                    11851.104565   \n",
       "\n",
       "       ratio_to_median_purchase_price  repeat_retailer      used_chip  \\\n",
       "count                   700000.000000    700000.000000  700000.000000   \n",
       "mean                         1.994054         0.881364       0.346679   \n",
       "std                          3.064163         0.323360       0.475913   \n",
       "min                          0.007278         0.000000       0.000000   \n",
       "25%                          0.487725         1.000000       0.000000   \n",
       "50%                          1.039303         1.000000       0.000000   \n",
       "75%                          2.266930         1.000000       1.000000   \n",
       "max                        266.689692         1.000000       1.000000   \n",
       "\n",
       "       used_pin_number   online_order  \n",
       "count    700000.000000  700000.000000  \n",
       "mean          0.096714       0.662340  \n",
       "std           0.295569       0.472912  \n",
       "min           0.000000       0.000000  \n",
       "25%           0.000000       0.000000  \n",
       "50%           0.000000       1.000000  \n",
       "75%           0.000000       1.000000  \n",
       "max           1.000000       1.000000  "
      ]
     },
     "execution_count": 16,
     "metadata": {},
     "output_type": "execute_result"
    }
   ],
   "source": [
    "df1.describe()"
   ]
  },
  {
   "cell_type": "code",
   "execution_count": 17,
   "metadata": {
    "execution": {
     "iopub.execute_input": "2023-07-17T08:41:10.052989Z",
     "iopub.status.busy": "2023-07-17T08:41:10.052553Z",
     "iopub.status.idle": "2023-07-17T08:41:10.080395Z",
     "shell.execute_reply": "2023-07-17T08:41:10.079319Z",
     "shell.execute_reply.started": "2023-07-17T08:41:10.052952Z"
    }
   },
   "outputs": [
    {
     "data": {
      "text/html": [
       "<div>\n",
       "<style scoped>\n",
       "    .dataframe tbody tr th:only-of-type {\n",
       "        vertical-align: middle;\n",
       "    }\n",
       "\n",
       "    .dataframe tbody tr th {\n",
       "        vertical-align: top;\n",
       "    }\n",
       "\n",
       "    .dataframe thead th {\n",
       "        text-align: right;\n",
       "    }\n",
       "</style>\n",
       "<table border=\"1\" class=\"dataframe\">\n",
       "  <thead>\n",
       "    <tr style=\"text-align: right;\">\n",
       "      <th></th>\n",
       "      <th>distance_from_home</th>\n",
       "      <th>distance_from_last_transaction</th>\n",
       "      <th>ratio_to_median_purchase_price</th>\n",
       "      <th>repeat_retailer</th>\n",
       "      <th>used_chip</th>\n",
       "      <th>used_pin_number</th>\n",
       "      <th>online_order</th>\n",
       "    </tr>\n",
       "  </thead>\n",
       "  <tbody>\n",
       "    <tr>\n",
       "      <th>412</th>\n",
       "      <td>965.910612</td>\n",
       "      <td>0.023604</td>\n",
       "      <td>0.257908</td>\n",
       "      <td>1.0</td>\n",
       "      <td>0.0</td>\n",
       "      <td>0.0</td>\n",
       "      <td>1.0</td>\n",
       "    </tr>\n",
       "    <tr>\n",
       "      <th>4038</th>\n",
       "      <td>2033.498174</td>\n",
       "      <td>0.783480</td>\n",
       "      <td>9.534812</td>\n",
       "      <td>1.0</td>\n",
       "      <td>0.0</td>\n",
       "      <td>0.0</td>\n",
       "      <td>0.0</td>\n",
       "    </tr>\n",
       "    <tr>\n",
       "      <th>9703</th>\n",
       "      <td>1071.554384</td>\n",
       "      <td>10.143118</td>\n",
       "      <td>1.219291</td>\n",
       "      <td>1.0</td>\n",
       "      <td>0.0</td>\n",
       "      <td>0.0</td>\n",
       "      <td>1.0</td>\n",
       "    </tr>\n",
       "    <tr>\n",
       "      <th>9931</th>\n",
       "      <td>1207.134491</td>\n",
       "      <td>0.318389</td>\n",
       "      <td>0.276731</td>\n",
       "      <td>1.0</td>\n",
       "      <td>0.0</td>\n",
       "      <td>0.0</td>\n",
       "      <td>0.0</td>\n",
       "    </tr>\n",
       "    <tr>\n",
       "      <th>11584</th>\n",
       "      <td>1058.229818</td>\n",
       "      <td>0.175199</td>\n",
       "      <td>0.340195</td>\n",
       "      <td>1.0</td>\n",
       "      <td>1.0</td>\n",
       "      <td>0.0</td>\n",
       "      <td>1.0</td>\n",
       "    </tr>\n",
       "    <tr>\n",
       "      <th>...</th>\n",
       "      <td>...</td>\n",
       "      <td>...</td>\n",
       "      <td>...</td>\n",
       "      <td>...</td>\n",
       "      <td>...</td>\n",
       "      <td>...</td>\n",
       "      <td>...</td>\n",
       "    </tr>\n",
       "    <tr>\n",
       "      <th>986142</th>\n",
       "      <td>1487.394251</td>\n",
       "      <td>2.332657</td>\n",
       "      <td>4.025897</td>\n",
       "      <td>1.0</td>\n",
       "      <td>0.0</td>\n",
       "      <td>0.0</td>\n",
       "      <td>0.0</td>\n",
       "    </tr>\n",
       "    <tr>\n",
       "      <th>991991</th>\n",
       "      <td>1018.764185</td>\n",
       "      <td>0.095766</td>\n",
       "      <td>7.486603</td>\n",
       "      <td>1.0</td>\n",
       "      <td>0.0</td>\n",
       "      <td>0.0</td>\n",
       "      <td>0.0</td>\n",
       "    </tr>\n",
       "    <tr>\n",
       "      <th>994109</th>\n",
       "      <td>2120.336604</td>\n",
       "      <td>12.243327</td>\n",
       "      <td>0.363797</td>\n",
       "      <td>1.0</td>\n",
       "      <td>0.0</td>\n",
       "      <td>0.0</td>\n",
       "      <td>1.0</td>\n",
       "    </tr>\n",
       "    <tr>\n",
       "      <th>994176</th>\n",
       "      <td>1182.070070</td>\n",
       "      <td>25.658925</td>\n",
       "      <td>1.379989</td>\n",
       "      <td>1.0</td>\n",
       "      <td>0.0</td>\n",
       "      <td>0.0</td>\n",
       "      <td>1.0</td>\n",
       "    </tr>\n",
       "    <tr>\n",
       "      <th>998320</th>\n",
       "      <td>1160.674180</td>\n",
       "      <td>1.926613</td>\n",
       "      <td>3.314429</td>\n",
       "      <td>1.0</td>\n",
       "      <td>0.0</td>\n",
       "      <td>0.0</td>\n",
       "      <td>1.0</td>\n",
       "    </tr>\n",
       "  </tbody>\n",
       "</table>\n",
       "<p>451 rows × 7 columns</p>\n",
       "</div>"
      ],
      "text/plain": [
       "        distance_from_home  distance_from_last_transaction  \\\n",
       "412             965.910612                        0.023604   \n",
       "4038           2033.498174                        0.783480   \n",
       "9703           1071.554384                       10.143118   \n",
       "9931           1207.134491                        0.318389   \n",
       "11584          1058.229818                        0.175199   \n",
       "...                    ...                             ...   \n",
       "986142         1487.394251                        2.332657   \n",
       "991991         1018.764185                        0.095766   \n",
       "994109         2120.336604                       12.243327   \n",
       "994176         1182.070070                       25.658925   \n",
       "998320         1160.674180                        1.926613   \n",
       "\n",
       "        ratio_to_median_purchase_price  repeat_retailer  used_chip  \\\n",
       "412                           0.257908              1.0        0.0   \n",
       "4038                          9.534812              1.0        0.0   \n",
       "9703                          1.219291              1.0        0.0   \n",
       "9931                          0.276731              1.0        0.0   \n",
       "11584                         0.340195              1.0        1.0   \n",
       "...                                ...              ...        ...   \n",
       "986142                        4.025897              1.0        0.0   \n",
       "991991                        7.486603              1.0        0.0   \n",
       "994109                        0.363797              1.0        0.0   \n",
       "994176                        1.379989              1.0        0.0   \n",
       "998320                        3.314429              1.0        0.0   \n",
       "\n",
       "        used_pin_number  online_order  \n",
       "412                 0.0           1.0  \n",
       "4038                0.0           0.0  \n",
       "9703                0.0           1.0  \n",
       "9931                0.0           0.0  \n",
       "11584               0.0           1.0  \n",
       "...                 ...           ...  \n",
       "986142              0.0           0.0  \n",
       "991991              0.0           0.0  \n",
       "994109              0.0           1.0  \n",
       "994176              0.0           1.0  \n",
       "998320              0.0           1.0  \n",
       "\n",
       "[451 rows x 7 columns]"
      ]
     },
     "execution_count": 17,
     "metadata": {},
     "output_type": "execute_result"
    }
   ],
   "source": [
    "df1[df1.distance_from_home>df1.distance_from_home.mean()+(13*df1.distance_from_home.std())]"
   ]
  },
  {
   "cell_type": "code",
   "execution_count": 18,
   "metadata": {
    "execution": {
     "iopub.execute_input": "2023-07-17T08:41:10.231281Z",
     "iopub.status.busy": "2023-07-17T08:41:10.230991Z",
     "iopub.status.idle": "2023-07-17T08:41:10.245295Z",
     "shell.execute_reply": "2023-07-17T08:41:10.244064Z",
     "shell.execute_reply.started": "2023-07-17T08:41:10.231255Z"
    }
   },
   "outputs": [
    {
     "data": {
      "text/plain": [
       "0.0    612597\n",
       "1.0     87403\n",
       "Name: fraud, dtype: int64"
      ]
     },
     "execution_count": 18,
     "metadata": {},
     "output_type": "execute_result"
    }
   ],
   "source": [
    "y.value_counts()"
   ]
  },
  {
   "cell_type": "code",
   "execution_count": 19,
   "metadata": {
    "execution": {
     "iopub.execute_input": "2023-07-17T08:41:10.405154Z",
     "iopub.status.busy": "2023-07-17T08:41:10.404447Z",
     "iopub.status.idle": "2023-07-17T08:41:10.411714Z",
     "shell.execute_reply": "2023-07-17T08:41:10.410597Z",
     "shell.execute_reply.started": "2023-07-17T08:41:10.405117Z"
    }
   },
   "outputs": [
    {
     "data": {
      "text/plain": [
       "0.087403"
      ]
     },
     "execution_count": 19,
     "metadata": {},
     "output_type": "execute_result"
    }
   ],
   "source": [
    "87403/(912597+87403)"
   ]
  },
  {
   "cell_type": "code",
   "execution_count": 20,
   "metadata": {
    "execution": {
     "iopub.execute_input": "2023-07-17T08:41:10.592422Z",
     "iopub.status.busy": "2023-07-17T08:41:10.591861Z",
     "iopub.status.idle": "2023-07-17T08:41:10.654072Z",
     "shell.execute_reply": "2023-07-17T08:41:10.652942Z",
     "shell.execute_reply.started": "2023-07-17T08:41:10.592387Z"
    }
   },
   "outputs": [],
   "source": [
    "from sklearn.preprocessing import StandardScaler\n",
    "from sklearn.compose import ColumnTransformer\n",
    "cv=ColumnTransformer([\n",
    "    (\"Standard\",StandardScaler(),[0,1,2])\n",
    "],remainder=\"passthrough\")\n",
    "df2=cv.fit_transform(df1)"
   ]
  },
  {
   "cell_type": "code",
   "execution_count": 21,
   "metadata": {
    "execution": {
     "iopub.execute_input": "2023-07-17T08:41:10.769361Z",
     "iopub.status.busy": "2023-07-17T08:41:10.769025Z",
     "iopub.status.idle": "2023-07-17T08:41:10.773791Z",
     "shell.execute_reply": "2023-07-17T08:41:10.772880Z",
     "shell.execute_reply.started": "2023-07-17T08:41:10.769304Z"
    }
   },
   "outputs": [],
   "source": [
    "g=df1.columns\n",
    "g=g.to_list()"
   ]
  },
  {
   "cell_type": "code",
   "execution_count": 22,
   "metadata": {
    "execution": {
     "iopub.execute_input": "2023-07-17T08:41:10.962961Z",
     "iopub.status.busy": "2023-07-17T08:41:10.962367Z",
     "iopub.status.idle": "2023-07-17T08:41:10.979035Z",
     "shell.execute_reply": "2023-07-17T08:41:10.977784Z",
     "shell.execute_reply.started": "2023-07-17T08:41:10.962924Z"
    }
   },
   "outputs": [
    {
     "data": {
      "text/html": [
       "<div>\n",
       "<style scoped>\n",
       "    .dataframe tbody tr th:only-of-type {\n",
       "        vertical-align: middle;\n",
       "    }\n",
       "\n",
       "    .dataframe tbody tr th {\n",
       "        vertical-align: top;\n",
       "    }\n",
       "\n",
       "    .dataframe thead th {\n",
       "        text-align: right;\n",
       "    }\n",
       "</style>\n",
       "<table border=\"1\" class=\"dataframe\">\n",
       "  <thead>\n",
       "    <tr style=\"text-align: right;\">\n",
       "      <th></th>\n",
       "      <th>distance_from_home</th>\n",
       "      <th>distance_from_last_transaction</th>\n",
       "      <th>ratio_to_median_purchase_price</th>\n",
       "      <th>repeat_retailer</th>\n",
       "      <th>used_chip</th>\n",
       "      <th>used_pin_number</th>\n",
       "      <th>online_order</th>\n",
       "    </tr>\n",
       "  </thead>\n",
       "  <tbody>\n",
       "    <tr>\n",
       "      <th>0</th>\n",
       "      <td>0.421681</td>\n",
       "      <td>-0.177478</td>\n",
       "      <td>-0.015702</td>\n",
       "      <td>1.0</td>\n",
       "      <td>1.0</td>\n",
       "      <td>0.0</td>\n",
       "      <td>0.0</td>\n",
       "    </tr>\n",
       "    <tr>\n",
       "      <th>1</th>\n",
       "      <td>-0.247181</td>\n",
       "      <td>-0.182229</td>\n",
       "      <td>-0.228394</td>\n",
       "      <td>1.0</td>\n",
       "      <td>0.0</td>\n",
       "      <td>0.0</td>\n",
       "      <td>0.0</td>\n",
       "    </tr>\n",
       "    <tr>\n",
       "      <th>2</th>\n",
       "      <td>-0.328768</td>\n",
       "      <td>-0.160163</td>\n",
       "      <td>-0.511181</td>\n",
       "      <td>1.0</td>\n",
       "      <td>0.0</td>\n",
       "      <td>0.0</td>\n",
       "      <td>1.0</td>\n",
       "    </tr>\n",
       "    <tr>\n",
       "      <th>3</th>\n",
       "      <td>-0.369193</td>\n",
       "      <td>0.007895</td>\n",
       "      <td>-0.532411</td>\n",
       "      <td>1.0</td>\n",
       "      <td>1.0</td>\n",
       "      <td>0.0</td>\n",
       "      <td>1.0</td>\n",
       "    </tr>\n",
       "    <tr>\n",
       "      <th>4</th>\n",
       "      <td>0.227099</td>\n",
       "      <td>-0.168529</td>\n",
       "      <td>0.074641</td>\n",
       "      <td>1.0</td>\n",
       "      <td>1.0</td>\n",
       "      <td>0.0</td>\n",
       "      <td>1.0</td>\n",
       "    </tr>\n",
       "  </tbody>\n",
       "</table>\n",
       "</div>"
      ],
      "text/plain": [
       "   distance_from_home  distance_from_last_transaction  \\\n",
       "0            0.421681                       -0.177478   \n",
       "1           -0.247181                       -0.182229   \n",
       "2           -0.328768                       -0.160163   \n",
       "3           -0.369193                        0.007895   \n",
       "4            0.227099                       -0.168529   \n",
       "\n",
       "   ratio_to_median_purchase_price  repeat_retailer  used_chip  \\\n",
       "0                       -0.015702              1.0        1.0   \n",
       "1                       -0.228394              1.0        0.0   \n",
       "2                       -0.511181              1.0        0.0   \n",
       "3                       -0.532411              1.0        1.0   \n",
       "4                        0.074641              1.0        1.0   \n",
       "\n",
       "   used_pin_number  online_order  \n",
       "0              0.0           0.0  \n",
       "1              0.0           0.0  \n",
       "2              0.0           1.0  \n",
       "3              0.0           1.0  \n",
       "4              0.0           1.0  "
      ]
     },
     "execution_count": 22,
     "metadata": {},
     "output_type": "execute_result"
    }
   ],
   "source": [
    "df3=pd.DataFrame(df2,columns=g)\n",
    "df3.head()"
   ]
  },
  {
   "cell_type": "code",
   "execution_count": 23,
   "metadata": {},
   "outputs": [
    {
     "data": {
      "text/plain": [
       "distance_from_home                0.296417\n",
       "distance_from_last_transaction    0.222015\n",
       "ratio_to_median_purchase_price   -0.468362\n",
       "repeat_retailer                   1.000000\n",
       "used_chip                         0.000000\n",
       "used_pin_number                   0.000000\n",
       "online_order                      1.000000\n",
       "Name: 1214, dtype: float64"
      ]
     },
     "execution_count": 23,
     "metadata": {},
     "output_type": "execute_result"
    }
   ],
   "source": [
    "df3.iloc[1214]"
   ]
  },
  {
   "cell_type": "code",
   "execution_count": 24,
   "metadata": {},
   "outputs": [
    {
     "data": {
      "text/plain": [
       "1.0"
      ]
     },
     "execution_count": 24,
     "metadata": {},
     "output_type": "execute_result"
    }
   ],
   "source": [
    "y[13]"
   ]
  },
  {
   "cell_type": "code",
   "execution_count": 25,
   "metadata": {
    "execution": {
     "iopub.execute_input": "2023-07-17T08:41:11.157533Z",
     "iopub.status.busy": "2023-07-17T08:41:11.157224Z",
     "iopub.status.idle": "2023-07-17T08:41:11.470751Z",
     "shell.execute_reply": "2023-07-17T08:41:11.469822Z",
     "shell.execute_reply.started": "2023-07-17T08:41:11.157508Z"
    }
   },
   "outputs": [
    {
     "data": {
      "image/png": "[encoded data removed]",
      "text/plain": [
       "<Figure size 640x480 with 1 Axes>"
      ]
     },
     "metadata": {},
     "output_type": "display_data"
    }
   ],
   "source": [
    "plt.hist(df3[\"distance_from_home\"],bins=50,color=\"orange\",alpha=0.8,edgecolor=\"blue\")\n",
    "plt.xlim(-4,20)\n",
    "plt.ylim(0,10000)\n",
    "plt.show()"
   ]
  },
  {
   "cell_type": "code",
   "execution_count": 26,
   "metadata": {
    "execution": {
     "iopub.execute_input": "2023-07-17T08:41:11.473034Z",
     "iopub.status.busy": "2023-07-17T08:41:11.472697Z",
     "iopub.status.idle": "2023-07-17T08:41:11.771258Z",
     "shell.execute_reply": "2023-07-17T08:41:11.770264Z",
     "shell.execute_reply.started": "2023-07-17T08:41:11.473000Z"
    }
   },
   "outputs": [
    {
     "data": {
      "image/png": "[encoded data removed]",
      "text/plain": [
       "<Figure size 640x480 with 1 Axes>"
      ]
     },
     "metadata": {},
     "output_type": "display_data"
    }
   ],
   "source": [
    "plt.hist(df3[\"distance_from_last_transaction\"],bins=50,color=\"red\",alpha=0.8,edgecolor=\"blue\")\n",
    "plt.xlim(-4,40)\n",
    "plt.ylim(0,10000)\n",
    "plt.show()"
   ]
  },
  {
   "cell_type": "code",
   "execution_count": 27,
   "metadata": {
    "execution": {
     "iopub.execute_input": "2023-07-17T08:41:11.773886Z",
     "iopub.status.busy": "2023-07-17T08:41:11.773329Z",
     "iopub.status.idle": "2023-07-17T08:41:11.781211Z",
     "shell.execute_reply": "2023-07-17T08:41:11.780036Z",
     "shell.execute_reply.started": "2023-07-17T08:41:11.773848Z"
    }
   },
   "outputs": [],
   "source": [
    "from sklearn.model_selection import train_test_split"
   ]
  },
  {
   "cell_type": "code",
   "execution_count": 28,
   "metadata": {
    "execution": {
     "iopub.execute_input": "2023-07-17T08:41:11.791906Z",
     "iopub.status.busy": "2023-07-17T08:41:11.791610Z",
     "iopub.status.idle": "2023-07-17T08:41:12.100932Z",
     "shell.execute_reply": "2023-07-17T08:41:12.099905Z",
     "shell.execute_reply.started": "2023-07-17T08:41:11.791855Z"
    }
   },
   "outputs": [],
   "source": [
    "x_train,x_test,y_train,y_test=train_test_split(df3,y,random_state=12,test_size=0.2,stratify=y)"
   ]
  },
  {
   "cell_type": "code",
   "execution_count": 29,
   "metadata": {
    "execution": {
     "iopub.execute_input": "2023-07-17T08:41:12.103272Z",
     "iopub.status.busy": "2023-07-17T08:41:12.102826Z",
     "iopub.status.idle": "2023-07-17T08:41:12.111347Z",
     "shell.execute_reply": "2023-07-17T08:41:12.110386Z",
     "shell.execute_reply.started": "2023-07-17T08:41:12.103237Z"
    }
   },
   "outputs": [
    {
     "data": {
      "text/plain": [
       "560000"
      ]
     },
     "execution_count": 29,
     "metadata": {},
     "output_type": "execute_result"
    }
   ],
   "source": [
    "len(x_train)"
   ]
  },
  {
   "cell_type": "code",
   "execution_count": 30,
   "metadata": {
    "execution": {
     "iopub.execute_input": "2023-07-17T08:41:12.200815Z",
     "iopub.status.busy": "2023-07-17T08:41:12.200542Z",
     "iopub.status.idle": "2023-07-17T08:41:12.206630Z",
     "shell.execute_reply": "2023-07-17T08:41:12.205645Z",
     "shell.execute_reply.started": "2023-07-17T08:41:12.200790Z"
    }
   },
   "outputs": [
    {
     "data": {
      "text/plain": [
       "560000"
      ]
     },
     "execution_count": 30,
     "metadata": {},
     "output_type": "execute_result"
    }
   ],
   "source": [
    "len(y_train)"
   ]
  },
  {
   "cell_type": "code",
   "execution_count": 31,
   "metadata": {
    "execution": {
     "iopub.execute_input": "2023-07-17T08:41:12.382219Z",
     "iopub.status.busy": "2023-07-17T08:41:12.381677Z",
     "iopub.status.idle": "2023-07-17T08:41:12.394351Z",
     "shell.execute_reply": "2023-07-17T08:41:12.393299Z",
     "shell.execute_reply.started": "2023-07-17T08:41:12.382184Z"
    }
   },
   "outputs": [
    {
     "data": {
      "text/plain": [
       "0.0    490078\n",
       "1.0     69922\n",
       "Name: fraud, dtype: int64"
      ]
     },
     "execution_count": 31,
     "metadata": {},
     "output_type": "execute_result"
    }
   ],
   "source": [
    "y_train.value_counts()"
   ]
  },
  {
   "cell_type": "code",
   "execution_count": 32,
   "metadata": {
    "execution": {
     "iopub.execute_input": "2023-07-17T08:41:12.601136Z",
     "iopub.status.busy": "2023-07-17T08:41:12.600857Z",
     "iopub.status.idle": "2023-07-17T08:41:12.605894Z",
     "shell.execute_reply": "2023-07-17T08:41:12.604963Z",
     "shell.execute_reply.started": "2023-07-17T08:41:12.601111Z"
    }
   },
   "outputs": [],
   "source": [
    "from imblearn.over_sampling import SMOTE"
   ]
  },
  {
   "cell_type": "code",
   "execution_count": 33,
   "metadata": {
    "execution": {
     "iopub.execute_input": "2023-07-17T08:41:13.480862Z",
     "iopub.status.busy": "2023-07-17T08:41:13.480129Z",
     "iopub.status.idle": "2023-07-17T08:41:13.486248Z",
     "shell.execute_reply": "2023-07-17T08:41:13.484306Z",
     "shell.execute_reply.started": "2023-07-17T08:41:13.480817Z"
    }
   },
   "outputs": [],
   "source": [
    "f=SMOTE(sampling_strategy=\"minority\")"
   ]
  },
  {
   "cell_type": "code",
   "execution_count": 34,
   "metadata": {
    "execution": {
     "iopub.execute_input": "2023-07-17T08:41:13.945444Z",
     "iopub.status.busy": "2023-07-17T08:41:13.944857Z",
     "iopub.status.idle": "2023-07-17T08:41:15.274490Z",
     "shell.execute_reply": "2023-07-17T08:41:15.273496Z",
     "shell.execute_reply.started": "2023-07-17T08:41:13.945406Z"
    }
   },
   "outputs": [],
   "source": [
    "x_train,y_train=f.fit_resample(x_train,y_train)"
   ]
  },
  {
   "cell_type": "code",
   "execution_count": 35,
   "metadata": {
    "execution": {
     "iopub.execute_input": "2023-07-17T08:41:15.276783Z",
     "iopub.status.busy": "2023-07-17T08:41:15.276326Z",
     "iopub.status.idle": "2023-07-17T08:41:15.284585Z",
     "shell.execute_reply": "2023-07-17T08:41:15.283378Z",
     "shell.execute_reply.started": "2023-07-17T08:41:15.276748Z"
    }
   },
   "outputs": [
    {
     "data": {
      "text/plain": [
       "980156"
      ]
     },
     "execution_count": 35,
     "metadata": {},
     "output_type": "execute_result"
    }
   ],
   "source": [
    "len(x_train)"
   ]
  },
  {
   "cell_type": "code",
   "execution_count": 36,
   "metadata": {
    "execution": {
     "iopub.execute_input": "2023-07-17T08:41:15.287193Z",
     "iopub.status.busy": "2023-07-17T08:41:15.286145Z",
     "iopub.status.idle": "2023-07-17T08:41:15.294504Z",
     "shell.execute_reply": "2023-07-17T08:41:15.293404Z",
     "shell.execute_reply.started": "2023-07-17T08:41:15.287119Z"
    }
   },
   "outputs": [
    {
     "data": {
      "text/plain": [
       "980156"
      ]
     },
     "execution_count": 36,
     "metadata": {},
     "output_type": "execute_result"
    }
   ],
   "source": [
    "len(y_train)"
   ]
  },
  {
   "cell_type": "code",
   "execution_count": 37,
   "metadata": {
    "execution": {
     "iopub.execute_input": "2023-07-17T08:41:18.368946Z",
     "iopub.status.busy": "2023-07-17T08:41:18.368580Z",
     "iopub.status.idle": "2023-07-17T08:41:18.386550Z",
     "shell.execute_reply": "2023-07-17T08:41:18.385437Z",
     "shell.execute_reply.started": "2023-07-17T08:41:18.368916Z"
    }
   },
   "outputs": [
    {
     "data": {
      "text/plain": [
       "0.0    490078\n",
       "1.0    490078\n",
       "Name: fraud, dtype: int64"
      ]
     },
     "execution_count": 37,
     "metadata": {},
     "output_type": "execute_result"
    }
   ],
   "source": [
    "y_train.value_counts()"
   ]
  },
  {
   "cell_type": "code",
   "execution_count": 38,
   "metadata": {
    "execution": {
     "iopub.execute_input": "2023-07-17T08:41:18.882272Z",
     "iopub.status.busy": "2023-07-17T08:41:18.881921Z",
     "iopub.status.idle": "2023-07-17T08:41:18.891469Z",
     "shell.execute_reply": "2023-07-17T08:41:18.890261Z",
     "shell.execute_reply.started": "2023-07-17T08:41:18.882241Z"
    }
   },
   "outputs": [
    {
     "data": {
      "text/plain": [
       "0.0    122519\n",
       "1.0     17481\n",
       "Name: fraud, dtype: int64"
      ]
     },
     "execution_count": 38,
     "metadata": {},
     "output_type": "execute_result"
    }
   ],
   "source": [
    "y_test.value_counts()"
   ]
  },
  {
   "cell_type": "code",
   "execution_count": 39,
   "metadata": {
    "execution": {
     "iopub.execute_input": "2023-07-17T08:41:21.285969Z",
     "iopub.status.busy": "2023-07-17T08:41:21.285608Z",
     "iopub.status.idle": "2023-07-17T08:41:21.291135Z",
     "shell.execute_reply": "2023-07-17T08:41:21.290108Z",
     "shell.execute_reply.started": "2023-07-17T08:41:21.285939Z"
    }
   },
   "outputs": [],
   "source": [
    "from sklearn.ensemble import RandomForestClassifier\n",
    "from sklearn.svm import SVC\n",
    "from sklearn.tree import DecisionTreeClassifier\n",
    "from sklearn.linear_model import LogisticRegression\n",
    "from sklearn.decomposition import PCA"
   ]
  },
  {
   "cell_type": "code",
   "execution_count": 64,
   "metadata": {
    "execution": {
     "iopub.execute_input": "2023-07-17T08:41:21.767843Z",
     "iopub.status.busy": "2023-07-17T08:41:21.767186Z",
     "iopub.status.idle": "2023-07-17T08:41:21.772763Z",
     "shell.execute_reply": "2023-07-17T08:41:21.771645Z",
     "shell.execute_reply.started": "2023-07-17T08:41:21.767798Z"
    }
   },
   "outputs": [],
   "source": [
    "model=RandomForestClassifier(n_estimators=10)"
   ]
  },
  {
   "cell_type": "code",
   "execution_count": 65,
   "metadata": {
    "execution": {
     "iopub.execute_input": "2023-07-17T08:41:23.282977Z",
     "iopub.status.busy": "2023-07-17T08:41:23.282620Z",
     "iopub.status.idle": "2023-07-17T08:41:34.555619Z",
     "shell.execute_reply": "2023-07-17T08:41:34.554489Z",
     "shell.execute_reply.started": "2023-07-17T08:41:23.282948Z"
    }
   },
   "outputs": [
    {
     "data": {
      "text/html": [
       "<style>#sk-container-id-3 {color: black;background-color: white;}#sk-container-id-3 pre{padding: 0;}#sk-container-id-3 div.sk-toggleable {background-color: white;}#sk-container-id-3 label.sk-toggleable__label {cursor: pointer;display: block;width: 100%;margin-bottom: 0;padding: 0.3em;box-sizing: border-box;text-align: center;}#sk-container-id-3 label.sk-toggleable__label-arrow:before {content: \"▸\";float: left;margin-right: 0.25em;color: #696969;}#sk-container-id-3 label.sk-toggleable__label-arrow:hover:before {color: black;}#sk-container-id-3 div.sk-estimator:hover label.sk-toggleable__label-arrow:before {color: black;}#sk-container-id-3 div.sk-toggleable__content {max-height: 0;max-width: 0;overflow: hidden;text-align: left;background-color: #f0f8ff;}#sk-container-id-3 div.sk-toggleable__content pre {margin: 0.2em;color: black;border-radius: 0.25em;background-color: #f0f8ff;}#sk-container-id-3 input.sk-toggleable__control:checked~div.sk-toggleable__content {max-height: 200px;max-width: 100%;overflow: auto;}#sk-container-id-3 input.sk-toggleable__control:checked~label.sk-toggleable__label-arrow:before {content: \"▾\";}#sk-container-id-3 div.sk-estimator input.sk-toggleable__control:checked~label.sk-toggleable__label {background-color: #d4ebff;}#sk-container-id-3 div.sk-label input.sk-toggleable__control:checked~label.sk-toggleable__label {background-color: #d4ebff;}#sk-container-id-3 input.sk-hidden--visually {border: 0;clip: rect(1px 1px 1px 1px);clip: rect(1px, 1px, 1px, 1px);height: 1px;margin: -1px;overflow: hidden;padding: 0;position: absolute;width: 1px;}#sk-container-id-3 div.sk-estimator {font-family: monospace;background-color: #f0f8ff;border: 1px dotted black;border-radius: 0.25em;box-sizing: border-box;margin-bottom: 0.5em;}#sk-container-id-3 div.sk-estimator:hover {background-color: #d4ebff;}#sk-container-id-3 div.sk-parallel-item::after {content: \"\";width: 100%;border-bottom: 1px solid gray;flex-grow: 1;}#sk-container-id-3 div.sk-label:hover label.sk-toggleable__label {background-color: #d4ebff;}#sk-container-id-3 div.sk-serial::before {content: \"\";position: absolute;border-left: 1px solid gray;box-sizing: border-box;top: 0;bottom: 0;left: 50%;z-index: 0;}#sk-container-id-3 div.sk-serial {display: flex;flex-direction: column;align-items: center;background-color: white;padding-right: 0.2em;padding-left: 0.2em;position: relative;}#sk-container-id-3 div.sk-item {position: relative;z-index: 1;}#sk-container-id-3 div.sk-parallel {display: flex;align-items: stretch;justify-content: center;background-color: white;position: relative;}#sk-container-id-3 div.sk-item::before, #sk-container-id-3 div.sk-parallel-item::before {content: \"\";position: absolute;border-left: 1px solid gray;box-sizing: border-box;top: 0;bottom: 0;left: 50%;z-index: -1;}#sk-container-id-3 div.sk-parallel-item {display: flex;flex-direction: column;z-index: 1;position: relative;background-color: white;}#sk-container-id-3 div.sk-parallel-item:first-child::after {align-self: flex-end;width: 50%;}#sk-container-id-3 div.sk-parallel-item:last-child::after {align-self: flex-start;width: 50%;}#sk-container-id-3 div.sk-parallel-item:only-child::after {width: 0;}#sk-container-id-3 div.sk-dashed-wrapped {border: 1px dashed gray;margin: 0 0.4em 0.5em 0.4em;box-sizing: border-box;padding-bottom: 0.4em;background-color: white;}#sk-container-id-3 div.sk-label label {font-family: monospace;font-weight: bold;display: inline-block;line-height: 1.2em;}#sk-container-id-3 div.sk-label-container {text-align: center;}#sk-container-id-3 div.sk-container {/* jupyter's `normalize.less` sets `[hidden] { display: none; }` but bootstrap.min.css set `[hidden] { display: none !important; }` so we also need the `!important` here to be able to override the default hidden behavior on the sphinx rendered scikit-learn.org. See: https://github.com/scikit-learn/scikit-learn/issues/21755 */display: inline-block !important;position: relative;}#sk-container-id-3 div.sk-text-repr-fallback {display: none;}</style><div id=\"sk-container-id-3\" class=\"sk-top-container\"><div class=\"sk-text-repr-fallback\"><pre>RandomForestClassifier(n_estimators=10)</pre><b>In a Jupyter environment, please rerun this cell to show the HTML representation or trust the notebook. <br />On GitHub, the HTML representation is unable to render, please try loading this page with nbviewer.org.</b></div><div class=\"sk-container\" hidden><div class=\"sk-item\"><div class=\"sk-estimator sk-toggleable\"><input class=\"sk-toggleable__control sk-hidden--visually\" id=\"sk-estimator-id-3\" type=\"checkbox\" checked><label for=\"sk-estimator-id-3\" class=\"sk-toggleable__label sk-toggleable__label-arrow\">RandomForestClassifier</label><div class=\"sk-toggleable__content\"><pre>RandomForestClassifier(n_estimators=10)</pre></div></div></div></div></div>"
      ],
      "text/plain": [
       "RandomForestClassifier(n_estimators=10)"
      ]
     },
     "execution_count": 65,
     "metadata": {},
     "output_type": "execute_result"
    }
   ],
   "source": [
    "model.fit(x_train,y_train)"
   ]
  },
  {
   "cell_type": "code",
   "execution_count": 42,
   "metadata": {
    "execution": {
     "iopub.execute_input": "2023-07-17T08:41:34.558437Z",
     "iopub.status.busy": "2023-07-17T08:41:34.558049Z",
     "iopub.status.idle": "2023-07-17T08:41:34.673446Z",
     "shell.execute_reply": "2023-07-17T08:41:34.672379Z",
     "shell.execute_reply.started": "2023-07-17T08:41:34.558402Z"
    }
   },
   "outputs": [
    {
     "data": {
      "text/plain": [
       "0.9999785714285714"
      ]
     },
     "execution_count": 42,
     "metadata": {},
     "output_type": "execute_result"
    }
   ],
   "source": [
    "model.score(x_test,y_test)"
   ]
  },
  {
   "cell_type": "code",
   "execution_count": 43,
   "metadata": {
    "execution": {
     "iopub.execute_input": "2023-07-17T08:41:34.675548Z",
     "iopub.status.busy": "2023-07-17T08:41:34.675168Z",
     "iopub.status.idle": "2023-07-17T08:41:34.776145Z",
     "shell.execute_reply": "2023-07-17T08:41:34.775255Z",
     "shell.execute_reply.started": "2023-07-17T08:41:34.675514Z"
    }
   },
   "outputs": [],
   "source": [
    "y_pred=model.predict(x_test)"
   ]
  },
  {
   "cell_type": "code",
   "execution_count": 49,
   "metadata": {},
   "outputs": [
    {
     "data": {
      "text/plain": [
       "array([1., 0., 1., ..., 0., 0., 0.])"
      ]
     },
     "execution_count": 49,
     "metadata": {},
     "output_type": "execute_result"
    }
   ],
   "source": [
    "y_pred"
   ]
  },
  {
   "cell_type": "code",
   "execution_count": 44,
   "metadata": {
    "execution": {
     "iopub.execute_input": "2023-07-17T08:41:34.778978Z",
     "iopub.status.busy": "2023-07-17T08:41:34.778617Z",
     "iopub.status.idle": "2023-07-17T08:41:35.042629Z",
     "shell.execute_reply": "2023-07-17T08:41:35.041671Z",
     "shell.execute_reply.started": "2023-07-17T08:41:34.778946Z"
    }
   },
   "outputs": [],
   "source": [
    "from sklearn.metrics import classification_report\n",
    "CR=classification_report(y_test,y_pred)"
   ]
  },
  {
   "cell_type": "code",
   "execution_count": 45,
   "metadata": {
    "execution": {
     "iopub.execute_input": "2023-07-17T08:41:35.044493Z",
     "iopub.status.busy": "2023-07-17T08:41:35.044107Z",
     "iopub.status.idle": "2023-07-17T08:41:35.050138Z",
     "shell.execute_reply": "2023-07-17T08:41:35.049016Z",
     "shell.execute_reply.started": "2023-07-17T08:41:35.044459Z"
    }
   },
   "outputs": [
    {
     "name": "stdout",
     "output_type": "stream",
     "text": [
      "              precision    recall  f1-score   support\n",
      "\n",
      "         0.0       1.00      1.00      1.00    122519\n",
      "         1.0       1.00      1.00      1.00     17481\n",
      "\n",
      "    accuracy                           1.00    140000\n",
      "   macro avg       1.00      1.00      1.00    140000\n",
      "weighted avg       1.00      1.00      1.00    140000\n",
      "\n"
     ]
    }
   ],
   "source": [
    "print(CR)"
   ]
  },
  {
   "cell_type": "code",
   "execution_count": 46,
   "metadata": {
    "execution": {
     "iopub.execute_input": "2023-07-17T08:41:40.241999Z",
     "iopub.status.busy": "2023-07-17T08:41:40.241620Z",
     "iopub.status.idle": "2023-07-17T08:41:40.399028Z",
     "shell.execute_reply": "2023-07-17T08:41:40.398064Z",
     "shell.execute_reply.started": "2023-07-17T08:41:40.241968Z"
    }
   },
   "outputs": [],
   "source": [
    "from sklearn.metrics import confusion_matrix\n",
    "CM=confusion_matrix(y_test,y_pred)\n"
   ]
  },
  {
   "cell_type": "code",
   "execution_count": 47,
   "metadata": {
    "execution": {
     "iopub.execute_input": "2023-07-17T08:41:42.083872Z",
     "iopub.status.busy": "2023-07-17T08:41:42.083195Z",
     "iopub.status.idle": "2023-07-17T08:41:42.356692Z",
     "shell.execute_reply": "2023-07-17T08:41:42.355800Z",
     "shell.execute_reply.started": "2023-07-17T08:41:42.083837Z"
    }
   },
   "outputs": [
    {
     "data": {
      "image/png": "[encoded data removed]",
      "text/plain": [
       "<Figure size 800x800 with 2 Axes>"
      ]
     },
     "metadata": {},
     "output_type": "display_data"
    }
   ],
   "source": [
    "import seaborn as sn\n",
    "plt.figure(figsize=(8,8))\n",
    "sn.heatmap(CM,annot=True,fmt=\"d\")\n",
    "plt.ylabel(\"Y TRUE\")\n",
    "plt.xlabel(\"Y PREDICTED\")\n",
    "plt.show()"
   ]
  },
  {
   "cell_type": "code",
   "execution_count": 48,
   "metadata": {
    "execution": {
     "iopub.execute_input": "2023-07-17T08:48:22.710402Z",
     "iopub.status.busy": "2023-07-17T08:48:22.709458Z",
     "iopub.status.idle": "2023-07-17T08:48:22.717730Z",
     "shell.execute_reply": "2023-07-17T08:48:22.716668Z",
     "shell.execute_reply.started": "2023-07-17T08:48:22.710355Z"
    }
   },
   "outputs": [],
   "source": [
    "import pickle\n",
    "with open(\"Credit.pickle4\",\"wb\") as fg:\n",
    "    pickle.dump(model,fg)"
   ]
  },
  {
   "cell_type": "code",
   "execution_count": null,
   "metadata": {},
   "outputs": [],
   "source": []
  }
 ],
 "metadata": {
  "kernelspec": {
   "display_name": "Python 3 (ipykernel)",
   "language": "python",
   "name": "python3"
  },
  "language_info": {
   "codemirror_mode": {
    "name": "ipython",
    "version": 3
   },
   "file_extension": ".py",
   "mimetype": "text/x-python",
   "name": "python",
   "nbconvert_exporter": "python",
   "pygments_lexer": "ipython3",
   "version": "3.11.3"
  }
 },
 "nbformat": 4,
 "nbformat_minor": 4
}
